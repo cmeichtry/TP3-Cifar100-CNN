{
 "cells": [
  {
   "cell_type": "markdown",
   "metadata": {},
   "source": [
    "***| Cristian Meichtry (62529) | Juan Martin Rodriguez (62563) |*** "
   ]
  },
  {
   "cell_type": "code",
   "execution_count": null,
   "metadata": {},
   "outputs": [],
   "source": [
    "Luego de iterar sobre varios diseños, se probaron dos modelos principales:\n",
    "\n",
    "***Primer modelo***: Consta de 4 bloques convolucionales y capas densas finales. Utiliza activaciones SELU, Batch Normalization, Dropout, ruido gaussiano y regularización L2. Optimiza con Adam y clasifica con softmax. Obtuvo un score privado de 0.6954 y un score público de 0.7108.\n",
    "\n",
    "***Segundo modelo***: Es una red residual profunda con bloques que integran convoluciones, Batch Normalization y conexiones residuales. Incluye etapas de inicialización, procesamiento intermedio y reducción espacial, seguidas de capas densas con Swish y regularización. También utiliza Adam como optimizador. Este modelo logró un score privado de 0.6766 y un score público de 0.6808.\n",
    "\n",
    "Por otro lado, se observó que, de manera contraintuitiva, al aplicar data augmentation similar al del TP1, el rendimiento disminuía notablemente, alcanzando scores cercanos a 0.58."
   ]
  },
  {
   "cell_type": "code",
   "execution_count": null,
   "metadata": {
    "execution": {
     "iopub.execute_input": "2024-11-26T15:14:03.397134Z",
     "iopub.status.busy": "2024-11-26T15:14:03.396756Z",
     "iopub.status.idle": "2024-11-26T15:14:03.405224Z",
     "shell.execute_reply": "2024-11-26T15:14:03.404242Z",
     "shell.execute_reply.started": "2024-11-26T15:14:03.397101Z"
    },
    "trusted": true
   },
   "outputs": [
    {
     "name": "stdout",
     "output_type": "stream",
     "text": [
      "/kaggle/input/dl-itba-cifar-100-2024-q-1/y_train_fine.npy\n",
      "/kaggle/input/dl-itba-cifar-100-2024-q-1/y_train_coarse.npy\n",
      "/kaggle/input/dl-itba-cifar-100-2024-q-1/fine_label_names.pck\n",
      "/kaggle/input/dl-itba-cifar-100-2024-q-1/coarse_label_names.pck\n",
      "/kaggle/input/dl-itba-cifar-100-2024-q-1/x_test.npy\n",
      "/kaggle/input/dl-itba-cifar-100-2024-q-1/x_train.npy\n"
     ]
    }
   ],
   "source": [
    "import numpy as np # linear algebra\n",
    "\n",
    "import pandas as pd # data processing, CSV file I/O (e.g. pd.read_csv)\n",
    "\n",
    "import os\n",
    "\n",
    "for dirname, _, filenames in os.walk('/kaggle/input'):\n",
    "    for filename in filenames:\n",
    "        print(os.path.join(dirname, filename))"
   ]
  },
  {
   "cell_type": "code",
   "execution_count": 212,
   "metadata": {
    "execution": {
     "iopub.execute_input": "2024-11-26T15:14:03.406940Z",
     "iopub.status.busy": "2024-11-26T15:14:03.406689Z",
     "iopub.status.idle": "2024-11-26T15:14:03.932796Z",
     "shell.execute_reply": "2024-11-26T15:14:03.931916Z",
     "shell.execute_reply.started": "2024-11-26T15:14:03.406916Z"
    },
    "trusted": true
   },
   "outputs": [
    {
     "name": "stdout",
     "output_type": "stream",
     "text": [
      "[11 15  4 ...  8  7  1]\n",
      "[19 29  0 ...  3  7 73]\n"
     ]
    }
   ],
   "source": [
    "x_train = np.load(\"/kaggle/input/dl-itba-cifar-100-2024-q-1/x_train.npy\")/255.\n",
    "x_test = np.load(\"/kaggle/input/dl-itba-cifar-100-2024-q-1/x_test.npy\")/255.\n",
    "y_train_coarse = np.load(\"/kaggle/input/dl-itba-cifar-100-2024-q-1/y_train_coarse.npy\")\n",
    "y_train_fine = np.load(\"/kaggle/input/dl-itba-cifar-100-2024-q-1/y_train_fine.npy\")\n",
    "\n",
    "print(y_train_coarse)\n",
    "print(y_train_fine)"
   ]
  },
  {
   "cell_type": "code",
   "execution_count": 213,
   "metadata": {
    "execution": {
     "iopub.execute_input": "2024-11-26T15:14:03.934668Z",
     "iopub.status.busy": "2024-11-26T15:14:03.934062Z",
     "iopub.status.idle": "2024-11-26T15:14:03.940089Z",
     "shell.execute_reply": "2024-11-26T15:14:03.939215Z",
     "shell.execute_reply.started": "2024-11-26T15:14:03.934629Z"
    },
    "trusted": true
   },
   "outputs": [],
   "source": [
    "import pickle\n",
    "\n",
    "with open(\"/kaggle/input/dl-itba-cifar-100-2024-q-1/fine_label_names.pck\", \"rb\") as f:\n",
    "    labels_fine = pickle.load(f)\n",
    "with open(\"/kaggle/input/dl-itba-cifar-100-2024-q-1/coarse_label_names.pck\", \"rb\") as f:\n",
    "    labels_coarse = pickle.load(f)"
   ]
  },
  {
   "cell_type": "code",
   "execution_count": 215,
   "metadata": {
    "execution": {
     "iopub.execute_input": "2024-11-26T15:14:03.956272Z",
     "iopub.status.busy": "2024-11-26T15:14:03.955983Z",
     "iopub.status.idle": "2024-11-26T15:14:03.966205Z",
     "shell.execute_reply": "2024-11-26T15:14:03.965384Z",
     "shell.execute_reply.started": "2024-11-26T15:14:03.956246Z"
    },
    "trusted": true
   },
   "outputs": [],
   "source": [
    "from matplotlib import pyplot as plt\n",
    "#%load_ext tensorboard\n",
    "import keras_cv"
   ]
  },
  {
   "cell_type": "code",
   "execution_count": null,
   "metadata": {
    "execution": {
     "iopub.execute_input": "2024-11-26T15:14:03.967625Z",
     "iopub.status.busy": "2024-11-26T15:14:03.967160Z",
     "iopub.status.idle": "2024-11-26T15:14:03.977104Z",
     "shell.execute_reply": "2024-11-26T15:14:03.976343Z",
     "shell.execute_reply.started": "2024-11-26T15:14:03.967598Z"
    },
    "trusted": true
   },
   "outputs": [],
   "source": [
    "#This code snippet visualizes samples from the training dataset.\n",
    "#It displays two rows of images with their corresponding labels, each consisting of eight images.\n",
    "\n",
    "plt.figure(figsize=(10, 10))\n",
    "cant = 8\n",
    "for i in range(cant):\n",
    "    plt.subplot(1, cant, i+1)\n",
    "    plt.imshow(x_train[i]) #Display the i-th image from the training set\n",
    "    plt.title([labels_fine[y_train[i]] ])\n",
    "    plt.axis('off')\n",
    "plt.show()\n",
    "plt.figure(figsize=(10, 10))\n",
    "\n",
    "for i in range(cant):\n",
    "    plt.subplot(1, cant, i+1)\n",
    "    plt.imshow(x_train[i+cant]) #Display the image at index i + cant in x_train\n",
    "    plt.title([labels_fine[y_train[i+cant]]])\n",
    "    plt.axis('off')"
   ]
  },
  {
   "cell_type": "code",
   "execution_count": null,
   "metadata": {
    "execution": {
     "iopub.execute_input": "2024-11-26T15:14:03.978674Z",
     "iopub.status.busy": "2024-11-26T15:14:03.978352Z",
     "iopub.status.idle": "2024-11-26T15:14:03.987698Z",
     "shell.execute_reply": "2024-11-26T15:14:03.986944Z",
     "shell.execute_reply.started": "2024-11-26T15:14:03.978637Z"
    },
    "trusted": true
   },
   "outputs": [],
   "source": [
    "len(x_train) "
   ]
  },
  {
   "cell_type": "code",
   "execution_count": null,
   "metadata": {
    "execution": {
     "iopub.execute_input": "2024-11-26T15:14:03.989659Z",
     "iopub.status.busy": "2024-11-26T15:14:03.988754Z",
     "iopub.status.idle": "2024-11-26T15:14:03.997671Z",
     "shell.execute_reply": "2024-11-26T15:14:03.997032Z",
     "shell.execute_reply.started": "2024-11-26T15:14:03.989620Z"
    },
    "trusted": true
   },
   "outputs": [],
   "source": [
    "x_train[0].ndim"
   ]
  },
  {
   "cell_type": "code",
   "execution_count": null,
   "metadata": {},
   "outputs": [],
   "source": [
    "from sklearn.model_selection import train_test_split\n",
    "x_split_train, x_split_val, y_split_train, y_split_val = train_test_split(x_train, y_train_fine, test_size=0.2, stratify=y_train_fine)"
   ]
  },
  {
   "cell_type": "code",
   "execution_count": null,
   "metadata": {},
   "outputs": [],
   "source": [
    "print(len(x_split_train))\n",
    "print(len(x_split_val))\n",
    "print(len(y_split_train))\n",
    "print(len(y_split_val))"
   ]
  },
  {
   "cell_type": "code",
   "execution_count": null,
   "metadata": {},
   "outputs": [],
   "source": [
    "plt.figure(figsize=(10, 10))\n",
    "cant = 8\n",
    "for i in range(cant):\n",
    "    plt.subplot(1, cant, i+1)\n",
    "    plt.imshow(x_split_train[i]) #Display the i-th image from the training set\n",
    "    plt.title([labels_fine[y_split_train[i]] ])\n",
    "    plt.axis('off')\n",
    "plt.show()\n",
    "plt.figure(figsize=(10, 10))\n",
    "\n",
    "for i in range(cant):\n",
    "    plt.subplot(1, cant, i+1)\n",
    "    plt.imshow(x_split_train[i+cant]) #Display the image at index i + cant in x_split_train\n",
    "    plt.title([labels_fine[y_split_train[i+cant]]])\n",
    "    plt.axis('off')"
   ]
  },
  {
   "cell_type": "code",
   "execution_count": null,
   "metadata": {
    "execution": {
     "iopub.execute_input": "2024-11-26T15:14:04.044125Z",
     "iopub.status.busy": "2024-11-26T15:14:04.043863Z",
     "iopub.status.idle": "2024-11-26T15:14:04.057107Z",
     "shell.execute_reply": "2024-11-26T15:14:04.056445Z",
     "shell.execute_reply.started": "2024-11-26T15:14:04.044101Z"
    },
    "trusted": true
   },
   "outputs": [],
   "source": [
    "from tensorflow.keras.models import Sequential\n",
    "from tensorflow.keras.models import Model\n",
    "from tensorflow.keras.layers import Dense,AveragePooling2D,Activation,Add, Dropout, GaussianNoise, BatchNormalization, Flatten, Input, Rescaling, Conv2D, Conv1D, MaxPooling1D, MaxPooling2D, Normalization, RandomBrightness, RandomFlip, RandomContrast, RandomFlip, RandomRotation, RandomCrop\n",
    "from tensorflow.keras.optimizers import SGD, Adam, RMSprop\n",
    "from tensorflow.keras.regularizers import L1, L2\n",
    "from tensorflow.keras.constraints import MaxNorm\n",
    "from tensorflow.keras.initializers import RandomNormal, Constant\n",
    "from tensorflow.keras.callbacks import ReduceLROnPlateau, EarlyStopping, ModelCheckpoint, TensorBoard\n",
    "import matplotlib.pyplot as plt"
   ]
  },
  {
   "cell_type": "code",
   "execution_count": null,
   "metadata": {
    "execution": {
     "iopub.execute_input": "2024-11-26T15:14:04.083443Z",
     "iopub.status.busy": "2024-11-26T15:14:04.082683Z",
     "iopub.status.idle": "2024-11-26T15:14:04.707902Z",
     "shell.execute_reply": "2024-11-26T15:14:04.707193Z",
     "shell.execute_reply.started": "2024-11-26T15:14:04.083405Z"
    },
    "trusted": true
   },
   "outputs": [],
   "source": [
    "net_input = Input(shape=(32,32,3))\n",
    "\n",
    "def res_block_first(input_layer,filters=16):\n",
    "    net=Conv2D(filters=filters, kernel_size=(3, 3), padding='same')(input_layer)\n",
    "    aux_net=BatchNormalization()(net)\n",
    "    \n",
    "    net=Conv2D(filters=filters, kernel_size=(3, 3), padding='same')(aux_net)\n",
    "    net=BatchNormalization()(net)\n",
    "    net=Activation(\"relu\")(net)\n",
    "    \n",
    "    net=Conv2D(filters=filters, kernel_size=(3, 3), padding='same')(net)\n",
    "    net=BatchNormalization()(net)\n",
    "    net=Activation(\"relu\")(net)\n",
    "    \n",
    "    net=Conv2D(filters=filters, kernel_size=(3, 3), padding='same')(net)\n",
    "    net=BatchNormalization()(net)\n",
    "    \n",
    "    net=Add()([aux_net,net])\n",
    "    \n",
    "    net=Activation(\"relu\")(net)\n",
    "    net=MaxPooling2D()(net)\n",
    "    \n",
    "    return net\n",
    "\n",
    "def res_block(input_layer,filters=16):\n",
    "    net=Conv2D(filters=filters, kernel_size=(3, 3), padding='same')(input_layer)\n",
    "    net=BatchNormalization()(net)\n",
    "    net=Activation(\"relu\")(net)\n",
    "    \n",
    "    net=Conv2D(filters=filters, kernel_size=(3, 3), padding='same')(net)\n",
    "    net=BatchNormalization()(net)\n",
    "    net=Activation(\"relu\")(net)\n",
    "    \n",
    "    net=Conv2D(filters=filters, kernel_size=(3, 3), padding='same')(net)\n",
    "    net=BatchNormalization()(net)\n",
    "\n",
    "    net=Add()([input_layer,net])\n",
    "    net=Activation(\"relu\")(net)\n",
    "    \n",
    "    return net\n",
    "\n",
    "def res_block_dec(input_layer,filters=32):\n",
    "    \n",
    "    input_layer=MaxPooling2D()(input_layer)\n",
    "    net=Conv2D(filters=filters, kernel_size=(1, 1), padding='same')(input_layer)\n",
    "    aux_net=BatchNormalization()(net)\n",
    "    \n",
    "    net=Conv2D(filters=filters, kernel_size=(3, 3), padding='same')(input_layer)\n",
    "    net=BatchNormalization()(net)\n",
    "    net=Activation(\"relu\")(net)\n",
    "    \n",
    "    net=Conv2D(filters=filters, kernel_size=(3, 3), padding='same')(net)\n",
    "    net=BatchNormalization()(net)\n",
    "    net=Activation(\"relu\")(net)\n",
    "    \n",
    "    net=Conv2D(filters=filters, kernel_size=(3, 3), padding='same')(net)\n",
    "    net=BatchNormalization()(net)\n",
    "    net=Add()([aux_net,net])\n",
    "    net=Activation(\"relu\")(net)\n",
    "    \n",
    "    return net\n",
    "\n",
    "net=res_block_first(net_input,filters=128)\n",
    "net=res_block(net,filters=128)\n",
    "net=res_block(net,filters=128)\n",
    "net=res_block(net,filters=128)\n",
    "\n",
    "net=res_block_dec(net,filters=256)\n",
    "net=res_block(net,filters=256)\n",
    "net=res_block(net,filters=256)\n",
    "net=res_block(net,filters=256)\n",
    "\n",
    "net=res_block_dec(net,filters=512)\n",
    "net=res_block(net,filters=512)\n",
    "net=res_block(net,filters=512)\n",
    "net=res_block(net,filters=512)\n",
    "\n",
    "net = AveragePooling2D(pool_size = (2,2)) (net)\n",
    "\n",
    "net=Flatten()(net)\n",
    "\n",
    "net=Dense(units=2048, activation='swish')(net)\n",
    "net=Dropout(0.3)(net)\n",
    "net=Dense(units=1000, activation='swish')(net)\n",
    "net = BatchNormalization(momentum=0.95, \n",
    "        epsilon=0.005,\n",
    "        beta_initializer=RandomNormal(mean=0.0, stddev=0.05), \n",
    "        gamma_initializer=Constant(value=0.9))(net)\n",
    "net=Dense(units=100, activation = 'softmax')(net)\n",
    "\n",
    "model=Model(net_input,net)\n",
    "\n",
    "model.compile(loss='sparse_categorical_crossentropy', optimizer = Adam(learning_rate=0.001), metrics=['accuracy'])"
   ]
  },
  {
   "cell_type": "code",
   "execution_count": null,
   "metadata": {},
   "outputs": [],
   "source": [
    "model.summary()"
   ]
  },
  {
   "cell_type": "code",
   "execution_count": null,
   "metadata": {},
   "outputs": [],
   "source": [
    "# Sets up learning rate reduction on plateau to optimize training stability.\n",
    "\n",
    "rlrop = ReduceLROnPlateau(\n",
    "    monitor=\"val_accuracy\",  # Monitors validation accuracy to detect plateaus\n",
    "    factor=0.5,              # Reduces the learning rate by half when plateauing\n",
    "    patience=3,              # Waits for 3 epochs without improvement before reducing the learning rate\n",
    "    verbose=1,               # Enables detailed output for each reduction in learning rate\n",
    "    min_lr=1e-5              # Defines a minimum learning rate to prevent over-reduction\n",
    ")"
   ]
  },
  {
   "cell_type": "code",
   "execution_count": null,
   "metadata": {
    "execution": {
     "iopub.execute_input": "2024-11-26T15:14:04.757172Z",
     "iopub.status.busy": "2024-11-26T15:14:04.756907Z",
     "iopub.status.idle": "2024-11-26T15:14:04.769621Z",
     "shell.execute_reply": "2024-11-26T15:14:04.768907Z",
     "shell.execute_reply.started": "2024-11-26T15:14:04.757148Z"
    },
    "trusted": true
   },
   "outputs": [],
   "source": [
    "# Sets up a model checkpoint to save the best weights during training.\n",
    "\n",
    "mc = ModelCheckpoint(\n",
    "    \"best_weights.weights.h5\",   # Path to save the model weights file.\n",
    "    monitor=\"val_accuracy\",      # Monitors validation accuracy to determine when to save\n",
    "    verbose=1,                   # Prints a message each time the model weights are saved\n",
    "    save_best_only=True,         # Saves only if validation accuracy improves, keeping the best weights\n",
    "    save_weights_only=True       # Saves only the model weights, not the full model\n",
    ")"
   ]
  },
  {
   "cell_type": "code",
   "execution_count": null,
   "metadata": {
    "execution": {
     "iopub.execute_input": "2024-11-26T15:14:04.770699Z",
     "iopub.status.busy": "2024-11-26T15:14:04.770461Z",
     "iopub.status.idle": "2024-11-26T15:14:04.788133Z",
     "shell.execute_reply": "2024-11-26T15:14:04.787415Z",
     "shell.execute_reply.started": "2024-11-26T15:14:04.770676Z"
    },
    "trusted": true
   },
   "outputs": [],
   "source": [
    "# Sets up early stopping to monitor the validation accuracy during training.\n",
    "\n",
    "es = EarlyStopping(\n",
    "    monitor=\"val_accuracy\",       # Tracks validation accuracy to determine stopping point\n",
    "    patience=10,                  # High patience value (40 epochs) to enable longer training\n",
    "    verbose=1,                    # Prints messages to indicate when early stopping is triggered\n",
    "    restore_best_weights=True     # Restores model weights from the best validation accuracy epoch\n",
    ")"
   ]
  },
  {
   "cell_type": "code",
   "execution_count": 233,
   "metadata": {
    "execution": {
     "iopub.execute_input": "2024-11-26T15:14:04.789778Z",
     "iopub.status.busy": "2024-11-26T15:14:04.789071Z",
     "iopub.status.idle": "2024-11-26T15:14:04.798097Z",
     "shell.execute_reply": "2024-11-26T15:14:04.797390Z",
     "shell.execute_reply.started": "2024-11-26T15:14:04.789740Z"
    },
    "trusted": true
   },
   "outputs": [],
   "source": [
    "tb = TensorBoard(\n",
    "    log_dir=\"logs\",\n",
    ")"
   ]
  },
  {
   "cell_type": "code",
   "execution_count": null,
   "metadata": {
    "execution": {
     "iopub.execute_input": "2024-11-26T15:14:05.180019Z",
     "iopub.status.busy": "2024-11-26T15:14:05.179630Z",
     "iopub.status.idle": "2024-11-26T15:14:05.535481Z",
     "shell.execute_reply": "2024-11-26T15:14:05.534805Z",
     "shell.execute_reply.started": "2024-11-26T15:14:05.179950Z"
    },
    "trusted": true
   },
   "outputs": [],
   "source": [
    "from tensorflow.keras.preprocessing.image import ImageDataGenerator\n",
    "datagen = ImageDataGenerator(\n",
    "            featurewise_center=False,  \n",
    "            samplewise_center=False,  \n",
    "            featurewise_std_normalization=False,  \n",
    "            samplewise_std_normalization=False,  \n",
    "            zca_whitening=False, \n",
    "            rotation_range=0,\n",
    "            width_shift_range=0.1,\n",
    "            height_shift_range=0.1,\n",
    "            horizontal_flip=True,\n",
    "            vertical_flip=False)\n",
    "\n",
    "datagen.fit(x_split_train)"
   ]
  },
  {
   "cell_type": "code",
   "execution_count": null,
   "metadata": {
    "execution": {
     "iopub.execute_input": "2024-11-26T15:14:05.536889Z",
     "iopub.status.busy": "2024-11-26T15:14:05.536619Z",
     "iopub.status.idle": "2024-11-26T16:55:35.111754Z",
     "shell.execute_reply": "2024-11-26T16:55:35.110991Z",
     "shell.execute_reply.started": "2024-11-26T15:14:05.536863Z"
    },
    "trusted": true
   },
   "outputs": [
    {
     "name": "stdout",
     "output_type": "stream",
     "text": [
      "Epoch 1/100\n"
     ]
    },
    {
     "name": "stderr",
     "output_type": "stream",
     "text": [
      "/opt/conda/lib/python3.10/site-packages/keras/src/trainers/data_adapters/py_dataset_adapter.py:121: UserWarning: Your `PyDataset` class should call `super().__init__(**kwargs)` in its constructor. `**kwargs` can include `workers`, `use_multiprocessing`, `max_queue_size`. Do not pass these arguments to `fit()`, as they will be ignored.\n",
      "  self._warn_if_super_not_called()\n",
      "I0000 00:00:1732634080.165378      93 asm_compiler.cc:369] ptxas warning : Registers are spilled to local memory in function 'loop_add_subtract_fusion_25', 4 bytes spill stores, 12 bytes spill loads\n",
      "ptxas warning : Registers are spilled to local memory in function 'loop_add_subtract_fusion_23', 4 bytes spill stores, 12 bytes spill loads\n",
      "ptxas warning : Registers are spilled to local memory in function 'loop_add_subtract_fusion_13', 4 bytes spill stores, 12 bytes spill loads\n",
      "\n"
     ]
    },
    {
     "name": "stdout",
     "output_type": "stream",
     "text": [
      "\u001b[1m625/800\u001b[0m \u001b[32m━━━━━━━━━━━━━━━\u001b[0m\u001b[37m━━━━━\u001b[0m \u001b[1m15s\u001b[0m 87ms/step - accuracy: 0.0382 - loss: 6.4187"
     ]
    },
    {
     "name": "stderr",
     "output_type": "stream",
     "text": [
      "/opt/conda/lib/python3.10/contextlib.py:153: UserWarning: Your input ran out of data; interrupting training. Make sure that your dataset or generator can generate at least `steps_per_epoch * epochs` batches. You may need to use the `.repeat()` function when building your dataset.\n",
      "  self.gen.throw(typ, value, traceback)\n"
     ]
    },
    {
     "name": "stdout",
     "output_type": "stream",
     "text": [
      "\n",
      "Epoch 1: val_accuracy improved from -inf to 0.02770, saving model to best_weights.weights.h5\n",
      "\u001b[1m800/800\u001b[0m \u001b[32m━━━━━━━━━━━━━━━━━━━━\u001b[0m\u001b[37m\u001b[0m \u001b[1m100s\u001b[0m 82ms/step - accuracy: 0.0427 - loss: 6.2014 - val_accuracy: 0.0277 - val_loss: 7.4095 - learning_rate: 0.0010\n",
      "Epoch 2/100\n",
      "\u001b[1m625/800\u001b[0m \u001b[32m━━━━━━━━━━━━━━━\u001b[0m\u001b[37m━━━━━\u001b[0m \u001b[1m15s\u001b[0m 87ms/step - accuracy: 0.1009 - loss: 4.4481\n",
      "Epoch 2: val_accuracy improved from 0.02770 to 0.07000, saving model to best_weights.weights.h5\n",
      "\u001b[1m800/800\u001b[0m \u001b[32m━━━━━━━━━━━━━━━━━━━━\u001b[0m\u001b[37m\u001b[0m \u001b[1m62s\u001b[0m 77ms/step - accuracy: 0.1036 - loss: 4.4346 - val_accuracy: 0.0700 - val_loss: 113.3101 - learning_rate: 0.0010\n",
      "Epoch 3/100\n",
      "\u001b[1m625/800\u001b[0m \u001b[32m━━━━━━━━━━━━━━━\u001b[0m\u001b[37m━━━━━\u001b[0m \u001b[1m15s\u001b[0m 87ms/step - accuracy: 0.1584 - loss: 4.1695\n",
      "Epoch 3: val_accuracy improved from 0.07000 to 0.17390, saving model to best_weights.weights.h5\n",
      "\u001b[1m800/800\u001b[0m \u001b[32m━━━━━━━━━━━━━━━━━━━━\u001b[0m\u001b[37m\u001b[0m \u001b[1m62s\u001b[0m 77ms/step - accuracy: 0.1601 - loss: 4.1477 - val_accuracy: 0.1739 - val_loss: 6.3543 - learning_rate: 0.0010\n",
      "Epoch 4/100\n",
      "\u001b[1m625/800\u001b[0m \u001b[32m━━━━━━━━━━━━━━━\u001b[0m\u001b[37m━━━━━\u001b[0m \u001b[1m15s\u001b[0m 87ms/step - accuracy: 0.2063 - loss: 3.7934\n",
      "Epoch 4: val_accuracy improved from 0.17390 to 0.20180, saving model to best_weights.weights.h5\n",
      "\u001b[1m800/800\u001b[0m \u001b[32m━━━━━━━━━━━━━━━━━━━━\u001b[0m\u001b[37m\u001b[0m \u001b[1m62s\u001b[0m 77ms/step - accuracy: 0.2091 - loss: 3.7815 - val_accuracy: 0.2018 - val_loss: 4.9357 - learning_rate: 0.0010\n",
      "Epoch 5/100\n",
      "\u001b[1m625/800\u001b[0m \u001b[32m━━━━━━━━━━━━━━━\u001b[0m\u001b[37m━━━━━\u001b[0m \u001b[1m15s\u001b[0m 87ms/step - accuracy: 0.2571 - loss: 3.5044\n",
      "Epoch 5: val_accuracy improved from 0.20180 to 0.29280, saving model to best_weights.weights.h5\n",
      "\u001b[1m800/800\u001b[0m \u001b[32m━━━━━━━━━━━━━━━━━━━━\u001b[0m\u001b[37m\u001b[0m \u001b[1m62s\u001b[0m 77ms/step - accuracy: 0.2598 - loss: 3.4875 - val_accuracy: 0.2928 - val_loss: 4.0326 - learning_rate: 0.0010\n",
      "Epoch 6/100\n",
      "\u001b[1m625/800\u001b[0m \u001b[32m━━━━━━━━━━━━━━━\u001b[0m\u001b[37m━━━━━\u001b[0m \u001b[1m15s\u001b[0m 87ms/step - accuracy: 0.3016 - loss: 3.2643\n",
      "Epoch 6: val_accuracy improved from 0.29280 to 0.30690, saving model to best_weights.weights.h5\n",
      "\u001b[1m800/800\u001b[0m \u001b[32m━━━━━━━━━━━━━━━━━━━━\u001b[0m\u001b[37m\u001b[0m \u001b[1m62s\u001b[0m 77ms/step - accuracy: 0.3017 - loss: 3.2642 - val_accuracy: 0.3069 - val_loss: 3.1036 - learning_rate: 0.0010\n",
      "Epoch 7/100\n",
      "\u001b[1m625/800\u001b[0m \u001b[32m━━━━━━━━━━━━━━━\u001b[0m\u001b[37m━━━━━\u001b[0m \u001b[1m15s\u001b[0m 87ms/step - accuracy: 0.3344 - loss: 3.0914\n",
      "Epoch 7: val_accuracy did not improve from 0.30690\n",
      "\u001b[1m800/800\u001b[0m \u001b[32m━━━━━━━━━━━━━━━━━━━━\u001b[0m\u001b[37m\u001b[0m \u001b[1m60s\u001b[0m 75ms/step - accuracy: 0.3350 - loss: 3.0852 - val_accuracy: 0.3005 - val_loss: 42.5695 - learning_rate: 0.0010\n",
      "Epoch 8/100\n",
      "\u001b[1m625/800\u001b[0m \u001b[32m━━━━━━━━━━━━━━━\u001b[0m\u001b[37m━━━━━\u001b[0m \u001b[1m15s\u001b[0m 87ms/step - accuracy: 0.3754 - loss: 2.8366\n",
      "Epoch 8: val_accuracy did not improve from 0.30690\n",
      "\u001b[1m800/800\u001b[0m \u001b[32m━━━━━━━━━━━━━━━━━━━━\u001b[0m\u001b[37m\u001b[0m \u001b[1m60s\u001b[0m 74ms/step - accuracy: 0.3751 - loss: 2.8370 - val_accuracy: 0.2338 - val_loss: 338.2352 - learning_rate: 0.0010\n",
      "Epoch 9/100\n",
      "\u001b[1m625/800\u001b[0m \u001b[32m━━━━━━━━━━━━━━━\u001b[0m\u001b[37m━━━━━\u001b[0m \u001b[1m15s\u001b[0m 87ms/step - accuracy: 0.3914 - loss: 2.7517\n",
      "Epoch 9: val_accuracy improved from 0.30690 to 0.31240, saving model to best_weights.weights.h5\n",
      "\u001b[1m800/800\u001b[0m \u001b[32m━━━━━━━━━━━━━━━━━━━━\u001b[0m\u001b[37m\u001b[0m \u001b[1m62s\u001b[0m 77ms/step - accuracy: 0.3902 - loss: 2.7568 - val_accuracy: 0.3124 - val_loss: 88.9786 - learning_rate: 0.0010\n",
      "Epoch 10/100\n",
      "\u001b[1m625/800\u001b[0m \u001b[32m━━━━━━━━━━━━━━━\u001b[0m\u001b[37m━━━━━\u001b[0m \u001b[1m15s\u001b[0m 87ms/step - accuracy: 0.4068 - loss: 2.6671\n",
      "Epoch 10: val_accuracy improved from 0.31240 to 0.41000, saving model to best_weights.weights.h5\n",
      "\u001b[1m800/800\u001b[0m \u001b[32m━━━━━━━━━━━━━━━━━━━━\u001b[0m\u001b[37m\u001b[0m \u001b[1m62s\u001b[0m 77ms/step - accuracy: 0.4072 - loss: 2.6622 - val_accuracy: 0.4100 - val_loss: 2.6093 - learning_rate: 0.0010\n",
      "Epoch 11/100\n",
      "\u001b[1m625/800\u001b[0m \u001b[32m━━━━━━━━━━━━━━━\u001b[0m\u001b[37m━━━━━\u001b[0m \u001b[1m15s\u001b[0m 87ms/step - accuracy: 0.4478 - loss: 2.4542\n",
      "Epoch 11: val_accuracy improved from 0.41000 to 0.42570, saving model to best_weights.weights.h5\n",
      "\u001b[1m800/800\u001b[0m \u001b[32m━━━━━━━━━━━━━━━━━━━━\u001b[0m\u001b[37m\u001b[0m \u001b[1m62s\u001b[0m 77ms/step - accuracy: 0.4481 - loss: 2.4529 - val_accuracy: 0.4257 - val_loss: 2.5392 - learning_rate: 0.0010\n",
      "Epoch 12/100\n",
      "\u001b[1m625/800\u001b[0m \u001b[32m━━━━━━━━━━━━━━━\u001b[0m\u001b[37m━━━━━\u001b[0m \u001b[1m15s\u001b[0m 87ms/step - accuracy: 0.4685 - loss: 2.3286\n",
      "Epoch 12: val_accuracy did not improve from 0.42570\n",
      "\u001b[1m800/800\u001b[0m \u001b[32m━━━━━━━━━━━━━━━━━━━━\u001b[0m\u001b[37m\u001b[0m \u001b[1m60s\u001b[0m 75ms/step - accuracy: 0.4695 - loss: 2.3237 - val_accuracy: 0.4239 - val_loss: 5.0112 - learning_rate: 0.0010\n",
      "Epoch 13/100\n",
      "\u001b[1m625/800\u001b[0m \u001b[32m━━━━━━━━━━━━━━━\u001b[0m\u001b[37m━━━━━\u001b[0m \u001b[1m15s\u001b[0m 87ms/step - accuracy: 0.5011 - loss: 2.1852\n",
      "Epoch 13: val_accuracy improved from 0.42570 to 0.46420, saving model to best_weights.weights.h5\n",
      "\u001b[1m800/800\u001b[0m \u001b[32m━━━━━━━━━━━━━━━━━━━━\u001b[0m\u001b[37m\u001b[0m \u001b[1m61s\u001b[0m 77ms/step - accuracy: 0.5000 - loss: 2.1887 - val_accuracy: 0.4642 - val_loss: 2.4646 - learning_rate: 0.0010\n",
      "Epoch 14/100\n",
      "\u001b[1m625/800\u001b[0m \u001b[32m━━━━━━━━━━━━━━━\u001b[0m\u001b[37m━━━━━\u001b[0m \u001b[1m15s\u001b[0m 87ms/step - accuracy: 0.5167 - loss: 2.0929\n",
      "Epoch 14: val_accuracy did not improve from 0.46420\n",
      "\u001b[1m800/800\u001b[0m \u001b[32m━━━━━━━━━━━━━━━━━━━━\u001b[0m\u001b[37m\u001b[0m \u001b[1m60s\u001b[0m 74ms/step - accuracy: 0.5150 - loss: 2.1014 - val_accuracy: 0.4266 - val_loss: 3.5886 - learning_rate: 0.0010\n",
      "Epoch 15/100\n",
      "\u001b[1m625/800\u001b[0m \u001b[32m━━━━━━━━━━━━━━━\u001b[0m\u001b[37m━━━━━\u001b[0m \u001b[1m15s\u001b[0m 87ms/step - accuracy: 0.5434 - loss: 1.9708\n",
      "Epoch 15: val_accuracy improved from 0.46420 to 0.48010, saving model to best_weights.weights.h5\n",
      "\u001b[1m800/800\u001b[0m \u001b[32m━━━━━━━━━━━━━━━━━━━━\u001b[0m\u001b[37m\u001b[0m \u001b[1m62s\u001b[0m 77ms/step - accuracy: 0.5412 - loss: 1.9769 - val_accuracy: 0.4801 - val_loss: 2.4441 - learning_rate: 0.0010\n",
      "Epoch 16/100\n",
      "\u001b[1m625/800\u001b[0m \u001b[32m━━━━━━━━━━━━━━━\u001b[0m\u001b[37m━━━━━\u001b[0m \u001b[1m15s\u001b[0m 87ms/step - accuracy: 0.5669 - loss: 1.8398\n",
      "Epoch 16: val_accuracy did not improve from 0.48010\n",
      "\u001b[1m800/800\u001b[0m \u001b[32m━━━━━━━━━━━━━━━━━━━━\u001b[0m\u001b[37m\u001b[0m \u001b[1m60s\u001b[0m 74ms/step - accuracy: 0.5667 - loss: 1.8408 - val_accuracy: 0.4316 - val_loss: 6.4029 - learning_rate: 0.0010\n",
      "Epoch 17/100\n",
      "\u001b[1m625/800\u001b[0m \u001b[32m━━━━━━━━━━━━━━━\u001b[0m\u001b[37m━━━━━\u001b[0m \u001b[1m15s\u001b[0m 87ms/step - accuracy: 0.5921 - loss: 1.7181\n",
      "Epoch 17: val_accuracy improved from 0.48010 to 0.50810, saving model to best_weights.weights.h5\n",
      "\u001b[1m800/800\u001b[0m \u001b[32m━━━━━━━━━━━━━━━━━━━━\u001b[0m\u001b[37m\u001b[0m \u001b[1m62s\u001b[0m 77ms/step - accuracy: 0.5913 - loss: 1.7216 - val_accuracy: 0.5081 - val_loss: 2.2145 - learning_rate: 0.0010\n",
      "Epoch 18/100\n",
      "\u001b[1m625/800\u001b[0m \u001b[32m━━━━━━━━━━━━━━━\u001b[0m\u001b[37m━━━━━\u001b[0m \u001b[1m15s\u001b[0m 87ms/step - accuracy: 0.6186 - loss: 1.6075\n",
      "Epoch 18: val_accuracy did not improve from 0.50810\n",
      "\u001b[1m800/800\u001b[0m \u001b[32m━━━━━━━━━━━━━━━━━━━━\u001b[0m\u001b[37m\u001b[0m \u001b[1m60s\u001b[0m 75ms/step - accuracy: 0.6170 - loss: 1.6121 - val_accuracy: 0.5071 - val_loss: 2.1959 - learning_rate: 0.0010\n",
      "Epoch 19/100\n",
      "\u001b[1m625/800\u001b[0m \u001b[32m━━━━━━━━━━━━━━━\u001b[0m\u001b[37m━━━━━\u001b[0m \u001b[1m15s\u001b[0m 87ms/step - accuracy: 0.6382 - loss: 1.5008\n",
      "Epoch 19: val_accuracy improved from 0.50810 to 0.50910, saving model to best_weights.weights.h5\n",
      "\u001b[1m800/800\u001b[0m \u001b[32m━━━━━━━━━━━━━━━━━━━━\u001b[0m\u001b[37m\u001b[0m \u001b[1m62s\u001b[0m 77ms/step - accuracy: 0.6374 - loss: 1.5046 - val_accuracy: 0.5091 - val_loss: 2.2035 - learning_rate: 0.0010\n",
      "Epoch 20/100\n",
      "\u001b[1m625/800\u001b[0m \u001b[32m━━━━━━━━━━━━━━━\u001b[0m\u001b[37m━━━━━\u001b[0m \u001b[1m15s\u001b[0m 87ms/step - accuracy: 0.6640 - loss: 1.3857\n",
      "Epoch 20: val_accuracy improved from 0.50910 to 0.53180, saving model to best_weights.weights.h5\n",
      "\u001b[1m800/800\u001b[0m \u001b[32m━━━━━━━━━━━━━━━━━━━━\u001b[0m\u001b[37m\u001b[0m \u001b[1m62s\u001b[0m 77ms/step - accuracy: 0.6620 - loss: 1.3921 - val_accuracy: 0.5318 - val_loss: 2.1407 - learning_rate: 0.0010\n",
      "Epoch 21/100\n",
      "\u001b[1m625/800\u001b[0m \u001b[32m━━━━━━━━━━━━━━━\u001b[0m\u001b[37m━━━━━\u001b[0m \u001b[1m15s\u001b[0m 87ms/step - accuracy: 0.6827 - loss: 1.3065\n",
      "Epoch 21: val_accuracy improved from 0.53180 to 0.53700, saving model to best_weights.weights.h5\n",
      "\u001b[1m800/800\u001b[0m \u001b[32m━━━━━━━━━━━━━━━━━━━━\u001b[0m\u001b[37m\u001b[0m \u001b[1m61s\u001b[0m 76ms/step - accuracy: 0.6810 - loss: 1.3149 - val_accuracy: 0.5370 - val_loss: 2.1559 - learning_rate: 0.0010\n",
      "Epoch 22/100\n",
      "\u001b[1m625/800\u001b[0m \u001b[32m━━━━━━━━━━━━━━━\u001b[0m\u001b[37m━━━━━\u001b[0m \u001b[1m15s\u001b[0m 87ms/step - accuracy: 0.7069 - loss: 1.2258\n",
      "Epoch 22: val_accuracy improved from 0.53700 to 0.56010, saving model to best_weights.weights.h5\n",
      "\u001b[1m800/800\u001b[0m \u001b[32m━━━━━━━━━━━━━━━━━━━━\u001b[0m\u001b[37m\u001b[0m \u001b[1m61s\u001b[0m 76ms/step - accuracy: 0.7047 - loss: 1.2332 - val_accuracy: 0.5601 - val_loss: 2.0234 - learning_rate: 0.0010\n",
      "Epoch 23/100\n",
      "\u001b[1m625/800\u001b[0m \u001b[32m━━━━━━━━━━━━━━━\u001b[0m\u001b[37m━━━━━\u001b[0m \u001b[1m15s\u001b[0m 87ms/step - accuracy: 0.7249 - loss: 1.1551\n",
      "Epoch 23: val_accuracy did not improve from 0.56010\n",
      "\u001b[1m800/800\u001b[0m \u001b[32m━━━━━━━━━━━━━━━━━━━━\u001b[0m\u001b[37m\u001b[0m \u001b[1m60s\u001b[0m 74ms/step - accuracy: 0.7229 - loss: 1.1623 - val_accuracy: 0.5473 - val_loss: 2.0532 - learning_rate: 0.0010\n",
      "Epoch 24/100\n",
      "\u001b[1m625/800\u001b[0m \u001b[32m━━━━━━━━━━━━━━━\u001b[0m\u001b[37m━━━━━\u001b[0m \u001b[1m15s\u001b[0m 87ms/step - accuracy: 0.7436 - loss: 1.0837\n",
      "Epoch 24: val_accuracy did not improve from 0.56010\n",
      "\u001b[1m800/800\u001b[0m \u001b[32m━━━━━━━━━━━━━━━━━━━━\u001b[0m\u001b[37m\u001b[0m \u001b[1m60s\u001b[0m 75ms/step - accuracy: 0.7420 - loss: 1.0886 - val_accuracy: 0.5328 - val_loss: 2.2464 - learning_rate: 0.0010\n",
      "Epoch 25/100\n",
      "\u001b[1m625/800\u001b[0m \u001b[32m━━━━━━━━━━━━━━━\u001b[0m\u001b[37m━━━━━\u001b[0m \u001b[1m15s\u001b[0m 87ms/step - accuracy: 0.7633 - loss: 1.0096\n",
      "Epoch 25: ReduceLROnPlateau reducing learning rate to 0.0005000000237487257.\n",
      "\n",
      "Epoch 25: val_accuracy did not improve from 0.56010\n",
      "\u001b[1m800/800\u001b[0m \u001b[32m━━━━━━━━━━━━━━━━━━━━\u001b[0m\u001b[37m\u001b[0m \u001b[1m60s\u001b[0m 74ms/step - accuracy: 0.7615 - loss: 1.0167 - val_accuracy: 0.5520 - val_loss: 2.4565 - learning_rate: 0.0010\n",
      "Epoch 26/100\n",
      "\u001b[1m625/800\u001b[0m \u001b[32m━━━━━━━━━━━━━━━\u001b[0m\u001b[37m━━━━━\u001b[0m \u001b[1m15s\u001b[0m 86ms/step - accuracy: 0.8183 - loss: 0.7902\n",
      "Epoch 26: val_accuracy improved from 0.56010 to 0.59210, saving model to best_weights.weights.h5\n",
      "\u001b[1m800/800\u001b[0m \u001b[32m━━━━━━━━━━━━━━━━━━━━\u001b[0m\u001b[37m\u001b[0m \u001b[1m61s\u001b[0m 76ms/step - accuracy: 0.8196 - loss: 0.7811 - val_accuracy: 0.5921 - val_loss: 1.8925 - learning_rate: 5.0000e-04\n",
      "Epoch 27/100\n",
      "\u001b[1m625/800\u001b[0m \u001b[32m━━━━━━━━━━━━━━━\u001b[0m\u001b[37m━━━━━\u001b[0m \u001b[1m15s\u001b[0m 87ms/step - accuracy: 0.8482 - loss: 0.6341\n",
      "Epoch 27: val_accuracy improved from 0.59210 to 0.60400, saving model to best_weights.weights.h5\n",
      "\u001b[1m800/800\u001b[0m \u001b[32m━━━━━━━━━━━━━━━━━━━━\u001b[0m\u001b[37m\u001b[0m \u001b[1m61s\u001b[0m 76ms/step - accuracy: 0.8478 - loss: 0.6349 - val_accuracy: 0.6040 - val_loss: 1.9235 - learning_rate: 5.0000e-04\n",
      "Epoch 28/100\n",
      "\u001b[1m625/800\u001b[0m \u001b[32m━━━━━━━━━━━━━━━\u001b[0m\u001b[37m━━━━━\u001b[0m \u001b[1m15s\u001b[0m 87ms/step - accuracy: 0.8676 - loss: 0.5680\n",
      "Epoch 28: val_accuracy improved from 0.60400 to 0.60450, saving model to best_weights.weights.h5\n",
      "\u001b[1m800/800\u001b[0m \u001b[32m━━━━━━━━━━━━━━━━━━━━\u001b[0m\u001b[37m\u001b[0m \u001b[1m61s\u001b[0m 76ms/step - accuracy: 0.8665 - loss: 0.5717 - val_accuracy: 0.6045 - val_loss: 1.9293 - learning_rate: 5.0000e-04\n",
      "Epoch 29/100\n",
      "\u001b[1m625/800\u001b[0m \u001b[32m━━━━━━━━━━━━━━━\u001b[0m\u001b[37m━━━━━\u001b[0m \u001b[1m15s\u001b[0m 87ms/step - accuracy: 0.8802 - loss: 0.5215\n",
      "Epoch 29: val_accuracy improved from 0.60450 to 0.61320, saving model to best_weights.weights.h5\n",
      "\u001b[1m800/800\u001b[0m \u001b[32m━━━━━━━━━━━━━━━━━━━━\u001b[0m\u001b[37m\u001b[0m \u001b[1m61s\u001b[0m 76ms/step - accuracy: 0.8791 - loss: 0.5244 - val_accuracy: 0.6132 - val_loss: 1.9756 - learning_rate: 5.0000e-04\n",
      "Epoch 30/100\n",
      "\u001b[1m625/800\u001b[0m \u001b[32m━━━━━━━━━━━━━━━\u001b[0m\u001b[37m━━━━━\u001b[0m \u001b[1m15s\u001b[0m 87ms/step - accuracy: 0.8884 - loss: 0.4866\n",
      "Epoch 30: val_accuracy did not improve from 0.61320\n",
      "\u001b[1m800/800\u001b[0m \u001b[32m━━━━━━━━━━━━━━━━━━━━\u001b[0m\u001b[37m\u001b[0m \u001b[1m60s\u001b[0m 74ms/step - accuracy: 0.8873 - loss: 0.4903 - val_accuracy: 0.5735 - val_loss: 2.2457 - learning_rate: 5.0000e-04\n",
      "Epoch 31/100\n",
      "\u001b[1m625/800\u001b[0m \u001b[32m━━━━━━━━━━━━━━━\u001b[0m\u001b[37m━━━━━\u001b[0m \u001b[1m15s\u001b[0m 87ms/step - accuracy: 0.8953 - loss: 0.4613\n",
      "Epoch 31: val_accuracy did not improve from 0.61320\n",
      "\u001b[1m800/800\u001b[0m \u001b[32m━━━━━━━━━━━━━━━━━━━━\u001b[0m\u001b[37m\u001b[0m \u001b[1m60s\u001b[0m 74ms/step - accuracy: 0.8943 - loss: 0.4649 - val_accuracy: 0.6105 - val_loss: 2.0453 - learning_rate: 5.0000e-04\n",
      "Epoch 32/100\n",
      "\u001b[1m625/800\u001b[0m \u001b[32m━━━━━━━━━━━━━━━\u001b[0m\u001b[37m━━━━━\u001b[0m \u001b[1m15s\u001b[0m 87ms/step - accuracy: 0.9034 - loss: 0.4369\n",
      "Epoch 32: ReduceLROnPlateau reducing learning rate to 0.0002500000118743628.\n",
      "\n",
      "Epoch 32: val_accuracy did not improve from 0.61320\n",
      "\u001b[1m800/800\u001b[0m \u001b[32m━━━━━━━━━━━━━━━━━━━━\u001b[0m\u001b[37m\u001b[0m \u001b[1m60s\u001b[0m 74ms/step - accuracy: 0.9027 - loss: 0.4386 - val_accuracy: 0.5993 - val_loss: 2.2423 - learning_rate: 5.0000e-04\n",
      "Epoch 33/100\n",
      "\u001b[1m625/800\u001b[0m \u001b[32m━━━━━━━━━━━━━━━\u001b[0m\u001b[37m━━━━━\u001b[0m \u001b[1m15s\u001b[0m 87ms/step - accuracy: 0.9248 - loss: 0.3533\n",
      "Epoch 33: val_accuracy improved from 0.61320 to 0.62060, saving model to best_weights.weights.h5\n",
      "\u001b[1m800/800\u001b[0m \u001b[32m━━━━━━━━━━━━━━━━━━━━\u001b[0m\u001b[37m\u001b[0m \u001b[1m61s\u001b[0m 76ms/step - accuracy: 0.9260 - loss: 0.3480 - val_accuracy: 0.6206 - val_loss: 2.0597 - learning_rate: 2.5000e-04\n",
      "Epoch 34/100\n",
      "\u001b[1m625/800\u001b[0m \u001b[32m━━━━━━━━━━━━━━━\u001b[0m\u001b[37m━━━━━\u001b[0m \u001b[1m15s\u001b[0m 87ms/step - accuracy: 0.9459 - loss: 0.2645\n",
      "Epoch 34: val_accuracy improved from 0.62060 to 0.62710, saving model to best_weights.weights.h5\n",
      "\u001b[1m800/800\u001b[0m \u001b[32m━━━━━━━━━━━━━━━━━━━━\u001b[0m\u001b[37m\u001b[0m \u001b[1m61s\u001b[0m 76ms/step - accuracy: 0.9455 - loss: 0.2651 - val_accuracy: 0.6271 - val_loss: 2.0453 - learning_rate: 2.5000e-04\n",
      "Epoch 35/100\n",
      "\u001b[1m625/800\u001b[0m \u001b[32m━━━━━━━━━━━━━━━\u001b[0m\u001b[37m━━━━━\u001b[0m \u001b[1m15s\u001b[0m 87ms/step - accuracy: 0.9521 - loss: 0.2351\n",
      "Epoch 35: val_accuracy did not improve from 0.62710\n",
      "\u001b[1m800/800\u001b[0m \u001b[32m━━━━━━━━━━━━━━━━━━━━\u001b[0m\u001b[37m\u001b[0m \u001b[1m60s\u001b[0m 74ms/step - accuracy: 0.9515 - loss: 0.2365 - val_accuracy: 0.6212 - val_loss: 2.0856 - learning_rate: 2.5000e-04\n",
      "Epoch 36/100\n",
      "\u001b[1m625/800\u001b[0m \u001b[32m━━━━━━━━━━━━━━━\u001b[0m\u001b[37m━━━━━\u001b[0m \u001b[1m15s\u001b[0m 87ms/step - accuracy: 0.9511 - loss: 0.2302\n",
      "Epoch 36: val_accuracy did not improve from 0.62710\n",
      "\u001b[1m800/800\u001b[0m \u001b[32m━━━━━━━━━━━━━━━━━━━━\u001b[0m\u001b[37m\u001b[0m \u001b[1m60s\u001b[0m 74ms/step - accuracy: 0.9512 - loss: 0.2307 - val_accuracy: 0.6234 - val_loss: 2.1294 - learning_rate: 2.5000e-04\n",
      "Epoch 37/100\n",
      "\u001b[1m625/800\u001b[0m \u001b[32m━━━━━━━━━━━━━━━\u001b[0m\u001b[37m━━━━━\u001b[0m \u001b[1m15s\u001b[0m 87ms/step - accuracy: 0.9531 - loss: 0.2205\n",
      "Epoch 37: val_accuracy improved from 0.62710 to 0.62960, saving model to best_weights.weights.h5\n",
      "\u001b[1m800/800\u001b[0m \u001b[32m━━━━━━━━━━━━━━━━━━━━\u001b[0m\u001b[37m\u001b[0m \u001b[1m61s\u001b[0m 76ms/step - accuracy: 0.9532 - loss: 0.2205 - val_accuracy: 0.6296 - val_loss: 2.1166 - learning_rate: 2.5000e-04\n",
      "Epoch 38/100\n",
      "\u001b[1m625/800\u001b[0m \u001b[32m━━━━━━━━━━━━━━━\u001b[0m\u001b[37m━━━━━\u001b[0m \u001b[1m15s\u001b[0m 87ms/step - accuracy: 0.9590 - loss: 0.2018\n",
      "Epoch 38: val_accuracy did not improve from 0.62960\n",
      "\u001b[1m800/800\u001b[0m \u001b[32m━━━━━━━━━━━━━━━━━━━━\u001b[0m\u001b[37m\u001b[0m \u001b[1m60s\u001b[0m 74ms/step - accuracy: 0.9584 - loss: 0.2035 - val_accuracy: 0.6219 - val_loss: 2.1612 - learning_rate: 2.5000e-04\n",
      "Epoch 39/100\n",
      "\u001b[1m625/800\u001b[0m \u001b[32m━━━━━━━━━━━━━━━\u001b[0m\u001b[37m━━━━━\u001b[0m \u001b[1m15s\u001b[0m 87ms/step - accuracy: 0.9582 - loss: 0.1998\n",
      "Epoch 39: val_accuracy did not improve from 0.62960\n",
      "\u001b[1m800/800\u001b[0m \u001b[32m━━━━━━━━━━━━━━━━━━━━\u001b[0m\u001b[37m\u001b[0m \u001b[1m60s\u001b[0m 74ms/step - accuracy: 0.9581 - loss: 0.2005 - val_accuracy: 0.6155 - val_loss: 2.2722 - learning_rate: 2.5000e-04\n",
      "Epoch 40/100\n",
      "\u001b[1m625/800\u001b[0m \u001b[32m━━━━━━━━━━━━━━━\u001b[0m\u001b[37m━━━━━\u001b[0m \u001b[1m15s\u001b[0m 87ms/step - accuracy: 0.9622 - loss: 0.1889\n",
      "Epoch 40: ReduceLROnPlateau reducing learning rate to 0.0001250000059371814.\n",
      "\n",
      "Epoch 40: val_accuracy did not improve from 0.62960\n",
      "\u001b[1m800/800\u001b[0m \u001b[32m━━━━━━━━━━━━━━━━━━━━\u001b[0m\u001b[37m\u001b[0m \u001b[1m60s\u001b[0m 74ms/step - accuracy: 0.9618 - loss: 0.1896 - val_accuracy: 0.6192 - val_loss: 2.2770 - learning_rate: 2.5000e-04\n",
      "Epoch 41/100\n",
      "\u001b[1m625/800\u001b[0m \u001b[32m━━━━━━━━━━━━━━━\u001b[0m\u001b[37m━━━━━\u001b[0m \u001b[1m15s\u001b[0m 87ms/step - accuracy: 0.9709 - loss: 0.1584\n",
      "Epoch 41: val_accuracy improved from 0.62960 to 0.63090, saving model to best_weights.weights.h5\n",
      "\u001b[1m800/800\u001b[0m \u001b[32m━━━━━━━━━━━━━━━━━━━━\u001b[0m\u001b[37m\u001b[0m \u001b[1m61s\u001b[0m 76ms/step - accuracy: 0.9714 - loss: 0.1565 - val_accuracy: 0.6309 - val_loss: 2.2128 - learning_rate: 1.2500e-04\n",
      "Epoch 42/100\n",
      "\u001b[1m625/800\u001b[0m \u001b[32m━━━━━━━━━━━━━━━\u001b[0m\u001b[37m━━━━━\u001b[0m \u001b[1m15s\u001b[0m 87ms/step - accuracy: 0.9776 - loss: 0.1346\n",
      "Epoch 42: val_accuracy improved from 0.63090 to 0.63270, saving model to best_weights.weights.h5\n",
      "\u001b[1m800/800\u001b[0m \u001b[32m━━━━━━━━━━━━━━━━━━━━\u001b[0m\u001b[37m\u001b[0m \u001b[1m62s\u001b[0m 77ms/step - accuracy: 0.9773 - loss: 0.1340 - val_accuracy: 0.6327 - val_loss: 2.1747 - learning_rate: 1.2500e-04\n",
      "Epoch 43/100\n",
      "\u001b[1m625/800\u001b[0m \u001b[32m━━━━━━━━━━━━━━━\u001b[0m\u001b[37m━━━━━\u001b[0m \u001b[1m15s\u001b[0m 86ms/step - accuracy: 0.9790 - loss: 0.1196\n",
      "Epoch 43: val_accuracy did not improve from 0.63270\n",
      "\u001b[1m800/800\u001b[0m \u001b[32m━━━━━━━━━━━━━━━━━━━━\u001b[0m\u001b[37m\u001b[0m \u001b[1m60s\u001b[0m 74ms/step - accuracy: 0.9790 - loss: 0.1195 - val_accuracy: 0.6319 - val_loss: 2.2185 - learning_rate: 1.2500e-04\n",
      "Epoch 44/100\n",
      "\u001b[1m625/800\u001b[0m \u001b[32m━━━━━━━━━━━━━━━\u001b[0m\u001b[37m━━━━━\u001b[0m \u001b[1m15s\u001b[0m 87ms/step - accuracy: 0.9798 - loss: 0.1166\n",
      "Epoch 44: val_accuracy improved from 0.63270 to 0.63290, saving model to best_weights.weights.h5\n",
      "\u001b[1m800/800\u001b[0m \u001b[32m━━━━━━━━━━━━━━━━━━━━\u001b[0m\u001b[37m\u001b[0m \u001b[1m62s\u001b[0m 77ms/step - accuracy: 0.9797 - loss: 0.1165 - val_accuracy: 0.6329 - val_loss: 2.2217 - learning_rate: 1.2500e-04\n",
      "Epoch 45/100\n",
      "\u001b[1m625/800\u001b[0m \u001b[32m━━━━━━━━━━━━━━━\u001b[0m\u001b[37m━━━━━\u001b[0m \u001b[1m15s\u001b[0m 87ms/step - accuracy: 0.9817 - loss: 0.1043\n",
      "Epoch 45: val_accuracy did not improve from 0.63290\n",
      "\u001b[1m800/800\u001b[0m \u001b[32m━━━━━━━━━━━━━━━━━━━━\u001b[0m\u001b[37m\u001b[0m \u001b[1m60s\u001b[0m 75ms/step - accuracy: 0.9815 - loss: 0.1049 - val_accuracy: 0.6305 - val_loss: 2.2036 - learning_rate: 1.2500e-04\n",
      "Epoch 46/100\n",
      "\u001b[1m625/800\u001b[0m \u001b[32m━━━━━━━━━━━━━━━\u001b[0m\u001b[37m━━━━━\u001b[0m \u001b[1m15s\u001b[0m 87ms/step - accuracy: 0.9819 - loss: 0.1053\n",
      "Epoch 46: val_accuracy did not improve from 0.63290\n",
      "\u001b[1m800/800\u001b[0m \u001b[32m━━━━━━━━━━━━━━━━━━━━\u001b[0m\u001b[37m\u001b[0m \u001b[1m60s\u001b[0m 75ms/step - accuracy: 0.9816 - loss: 0.1057 - val_accuracy: 0.6312 - val_loss: 2.2591 - learning_rate: 1.2500e-04\n",
      "Epoch 47/100\n",
      "\u001b[1m625/800\u001b[0m \u001b[32m━━━━━━━━━━━━━━━\u001b[0m\u001b[37m━━━━━\u001b[0m \u001b[1m15s\u001b[0m 87ms/step - accuracy: 0.9810 - loss: 0.1044\n",
      "Epoch 47: ReduceLROnPlateau reducing learning rate to 6.25000029685907e-05.\n",
      "\n",
      "Epoch 47: val_accuracy did not improve from 0.63290\n",
      "\u001b[1m800/800\u001b[0m \u001b[32m━━━━━━━━━━━━━━━━━━━━\u001b[0m\u001b[37m\u001b[0m \u001b[1m60s\u001b[0m 75ms/step - accuracy: 0.9810 - loss: 0.1046 - val_accuracy: 0.6299 - val_loss: 2.2625 - learning_rate: 1.2500e-04\n",
      "Epoch 48/100\n",
      "\u001b[1m625/800\u001b[0m \u001b[32m━━━━━━━━━━━━━━━\u001b[0m\u001b[37m━━━━━\u001b[0m \u001b[1m15s\u001b[0m 87ms/step - accuracy: 0.9849 - loss: 0.0880\n",
      "Epoch 48: val_accuracy improved from 0.63290 to 0.63500, saving model to best_weights.weights.h5\n",
      "\u001b[1m800/800\u001b[0m \u001b[32m━━━━━━━━━━━━━━━━━━━━\u001b[0m\u001b[37m\u001b[0m \u001b[1m61s\u001b[0m 77ms/step - accuracy: 0.9853 - loss: 0.0873 - val_accuracy: 0.6350 - val_loss: 2.2108 - learning_rate: 6.2500e-05\n",
      "Epoch 49/100\n",
      "\u001b[1m625/800\u001b[0m \u001b[32m━━━━━━━━━━━━━━━\u001b[0m\u001b[37m━━━━━\u001b[0m \u001b[1m15s\u001b[0m 87ms/step - accuracy: 0.9868 - loss: 0.0823\n",
      "Epoch 49: val_accuracy did not improve from 0.63500\n",
      "\u001b[1m800/800\u001b[0m \u001b[32m━━━━━━━━━━━━━━━━━━━━\u001b[0m\u001b[37m\u001b[0m \u001b[1m60s\u001b[0m 75ms/step - accuracy: 0.9869 - loss: 0.0820 - val_accuracy: 0.6347 - val_loss: 2.2050 - learning_rate: 6.2500e-05\n",
      "Epoch 50/100\n",
      "\u001b[1m625/800\u001b[0m \u001b[32m━━━━━━━━━━━━━━━\u001b[0m\u001b[37m━━━━━\u001b[0m \u001b[1m15s\u001b[0m 87ms/step - accuracy: 0.9886 - loss: 0.0747\n",
      "Epoch 50: val_accuracy improved from 0.63500 to 0.63760, saving model to best_weights.weights.h5\n",
      "\u001b[1m800/800\u001b[0m \u001b[32m━━━━━━━━━━━━━━━━━━━━\u001b[0m\u001b[37m\u001b[0m \u001b[1m62s\u001b[0m 77ms/step - accuracy: 0.9884 - loss: 0.0749 - val_accuracy: 0.6376 - val_loss: 2.2199 - learning_rate: 6.2500e-05\n",
      "Epoch 51/100\n",
      "\u001b[1m625/800\u001b[0m \u001b[32m━━━━━━━━━━━━━━━\u001b[0m\u001b[37m━━━━━\u001b[0m \u001b[1m15s\u001b[0m 87ms/step - accuracy: 0.9873 - loss: 0.0747\n",
      "Epoch 51: val_accuracy did not improve from 0.63760\n",
      "\u001b[1m800/800\u001b[0m \u001b[32m━━━━━━━━━━━━━━━━━━━━\u001b[0m\u001b[37m\u001b[0m \u001b[1m60s\u001b[0m 75ms/step - accuracy: 0.9873 - loss: 0.0743 - val_accuracy: 0.6346 - val_loss: 2.2285 - learning_rate: 6.2500e-05\n",
      "Epoch 52/100\n",
      "\u001b[1m625/800\u001b[0m \u001b[32m━━━━━━━━━━━━━━━\u001b[0m\u001b[37m━━━━━\u001b[0m \u001b[1m15s\u001b[0m 87ms/step - accuracy: 0.9885 - loss: 0.0701\n",
      "Epoch 52: val_accuracy did not improve from 0.63760\n",
      "\u001b[1m800/800\u001b[0m \u001b[32m━━━━━━━━━━━━━━━━━━━━\u001b[0m\u001b[37m\u001b[0m \u001b[1m60s\u001b[0m 75ms/step - accuracy: 0.9886 - loss: 0.0698 - val_accuracy: 0.6370 - val_loss: 2.2368 - learning_rate: 6.2500e-05\n",
      "Epoch 53/100\n",
      "\u001b[1m625/800\u001b[0m \u001b[32m━━━━━━━━━━━━━━━\u001b[0m\u001b[37m━━━━━\u001b[0m \u001b[1m15s\u001b[0m 87ms/step - accuracy: 0.9891 - loss: 0.0674\n",
      "Epoch 53: ReduceLROnPlateau reducing learning rate to 3.125000148429535e-05.\n",
      "\n",
      "Epoch 53: val_accuracy did not improve from 0.63760\n",
      "\u001b[1m800/800\u001b[0m \u001b[32m━━━━━━━━━━━━━━━━━━━━\u001b[0m\u001b[37m\u001b[0m \u001b[1m60s\u001b[0m 75ms/step - accuracy: 0.9891 - loss: 0.0675 - val_accuracy: 0.6344 - val_loss: 2.2655 - learning_rate: 6.2500e-05\n",
      "Epoch 54/100\n",
      "\u001b[1m625/800\u001b[0m \u001b[32m━━━━━━━━━━━━━━━\u001b[0m\u001b[37m━━━━━\u001b[0m \u001b[1m15s\u001b[0m 87ms/step - accuracy: 0.9897 - loss: 0.0623\n",
      "Epoch 54: val_accuracy did not improve from 0.63760\n",
      "\u001b[1m800/800\u001b[0m \u001b[32m━━━━━━━━━━━━━━━━━━━━\u001b[0m\u001b[37m\u001b[0m \u001b[1m60s\u001b[0m 75ms/step - accuracy: 0.9898 - loss: 0.0625 - val_accuracy: 0.6372 - val_loss: 2.2131 - learning_rate: 3.1250e-05\n",
      "Epoch 55/100\n",
      "\u001b[1m625/800\u001b[0m \u001b[32m━━━━━━━━━━━━━━━\u001b[0m\u001b[37m━━━━━\u001b[0m \u001b[1m15s\u001b[0m 87ms/step - accuracy: 0.9907 - loss: 0.0616\n",
      "Epoch 55: val_accuracy improved from 0.63760 to 0.63950, saving model to best_weights.weights.h5\n",
      "\u001b[1m800/800\u001b[0m \u001b[32m━━━━━━━━━━━━━━━━━━━━\u001b[0m\u001b[37m\u001b[0m \u001b[1m61s\u001b[0m 76ms/step - accuracy: 0.9908 - loss: 0.0610 - val_accuracy: 0.6395 - val_loss: 2.1953 - learning_rate: 3.1250e-05\n",
      "Epoch 56/100\n",
      "\u001b[1m625/800\u001b[0m \u001b[32m━━━━━━━━━━━━━━━\u001b[0m\u001b[37m━━━━━\u001b[0m \u001b[1m15s\u001b[0m 87ms/step - accuracy: 0.9914 - loss: 0.0573\n",
      "Epoch 56: val_accuracy did not improve from 0.63950\n",
      "\u001b[1m800/800\u001b[0m \u001b[32m━━━━━━━━━━━━━━━━━━━━\u001b[0m\u001b[37m\u001b[0m \u001b[1m60s\u001b[0m 75ms/step - accuracy: 0.9914 - loss: 0.0572 - val_accuracy: 0.6394 - val_loss: 2.2287 - learning_rate: 3.1250e-05\n",
      "Epoch 57/100\n",
      "\u001b[1m625/800\u001b[0m \u001b[32m━━━━━━━━━━━━━━━\u001b[0m\u001b[37m━━━━━\u001b[0m \u001b[1m15s\u001b[0m 87ms/step - accuracy: 0.9927 - loss: 0.0537\n",
      "Epoch 57: val_accuracy did not improve from 0.63950\n",
      "\u001b[1m800/800\u001b[0m \u001b[32m━━━━━━━━━━━━━━━━━━━━\u001b[0m\u001b[37m\u001b[0m \u001b[1m60s\u001b[0m 75ms/step - accuracy: 0.9926 - loss: 0.0538 - val_accuracy: 0.6384 - val_loss: 2.2397 - learning_rate: 3.1250e-05\n",
      "Epoch 58/100\n",
      "\u001b[1m625/800\u001b[0m \u001b[32m━━━━━━━━━━━━━━━\u001b[0m\u001b[37m━━━━━\u001b[0m \u001b[1m15s\u001b[0m 87ms/step - accuracy: 0.9929 - loss: 0.0519\n",
      "Epoch 58: ReduceLROnPlateau reducing learning rate to 1.5625000742147677e-05.\n",
      "\n",
      "Epoch 58: val_accuracy did not improve from 0.63950\n",
      "\u001b[1m800/800\u001b[0m \u001b[32m━━━━━━━━━━━━━━━━━━━━\u001b[0m\u001b[37m\u001b[0m \u001b[1m60s\u001b[0m 75ms/step - accuracy: 0.9929 - loss: 0.0518 - val_accuracy: 0.6386 - val_loss: 2.2517 - learning_rate: 3.1250e-05\n",
      "Epoch 59/100\n",
      "\u001b[1m625/800\u001b[0m \u001b[32m━━━━━━━━━━━━━━━\u001b[0m\u001b[37m━━━━━\u001b[0m \u001b[1m15s\u001b[0m 87ms/step - accuracy: 0.9919 - loss: 0.0523\n",
      "Epoch 59: val_accuracy did not improve from 0.63950\n",
      "\u001b[1m800/800\u001b[0m \u001b[32m━━━━━━━━━━━━━━━━━━━━\u001b[0m\u001b[37m\u001b[0m \u001b[1m60s\u001b[0m 75ms/step - accuracy: 0.9919 - loss: 0.0523 - val_accuracy: 0.6389 - val_loss: 2.2428 - learning_rate: 1.5625e-05\n",
      "Epoch 60/100\n",
      "\u001b[1m625/800\u001b[0m \u001b[32m━━━━━━━━━━━━━━━\u001b[0m\u001b[37m━━━━━\u001b[0m \u001b[1m15s\u001b[0m 87ms/step - accuracy: 0.9926 - loss: 0.0510\n",
      "Epoch 60: val_accuracy did not improve from 0.63950\n",
      "\u001b[1m800/800\u001b[0m \u001b[32m━━━━━━━━━━━━━━━━━━━━\u001b[0m\u001b[37m\u001b[0m \u001b[1m60s\u001b[0m 75ms/step - accuracy: 0.9928 - loss: 0.0507 - val_accuracy: 0.6384 - val_loss: 2.2450 - learning_rate: 1.5625e-05\n",
      "Epoch 61/100\n",
      "\u001b[1m625/800\u001b[0m \u001b[32m━━━━━━━━━━━━━━━\u001b[0m\u001b[37m━━━━━\u001b[0m \u001b[1m15s\u001b[0m 87ms/step - accuracy: 0.9936 - loss: 0.0471\n",
      "Epoch 61: ReduceLROnPlateau reducing learning rate to 1e-05.\n",
      "\n",
      "Epoch 61: val_accuracy did not improve from 0.63950\n",
      "\u001b[1m800/800\u001b[0m \u001b[32m━━━━━━━━━━━━━━━━━━━━\u001b[0m\u001b[37m\u001b[0m \u001b[1m60s\u001b[0m 75ms/step - accuracy: 0.9935 - loss: 0.0474 - val_accuracy: 0.6379 - val_loss: 2.2456 - learning_rate: 1.5625e-05\n",
      "Epoch 62/100\n",
      "\u001b[1m625/800\u001b[0m \u001b[32m━━━━━━━━━━━━━━━\u001b[0m\u001b[37m━━━━━\u001b[0m \u001b[1m15s\u001b[0m 87ms/step - accuracy: 0.9941 - loss: 0.0463\n",
      "Epoch 62: val_accuracy did not improve from 0.63950\n",
      "\u001b[1m800/800\u001b[0m \u001b[32m━━━━━━━━━━━━━━━━━━━━\u001b[0m\u001b[37m\u001b[0m \u001b[1m60s\u001b[0m 74ms/step - accuracy: 0.9941 - loss: 0.0463 - val_accuracy: 0.6369 - val_loss: 2.2305 - learning_rate: 1.0000e-05\n",
      "Epoch 63/100\n",
      "\u001b[1m625/800\u001b[0m \u001b[32m━━━━━━━━━━━━━━━\u001b[0m\u001b[37m━━━━━\u001b[0m \u001b[1m15s\u001b[0m 87ms/step - accuracy: 0.9937 - loss: 0.0454\n",
      "Epoch 63: val_accuracy did not improve from 0.63950\n",
      "\u001b[1m800/800\u001b[0m \u001b[32m━━━━━━━━━━━━━━━━━━━━\u001b[0m\u001b[37m\u001b[0m \u001b[1m60s\u001b[0m 74ms/step - accuracy: 0.9936 - loss: 0.0457 - val_accuracy: 0.6385 - val_loss: 2.2529 - learning_rate: 1.0000e-05\n",
      "Epoch 64/100\n",
      "\u001b[1m625/800\u001b[0m \u001b[32m━━━━━━━━━━━━━━━\u001b[0m\u001b[37m━━━━━\u001b[0m \u001b[1m15s\u001b[0m 87ms/step - accuracy: 0.9934 - loss: 0.0462\n",
      "Epoch 64: val_accuracy did not improve from 0.63950\n",
      "\u001b[1m800/800\u001b[0m \u001b[32m━━━━━━━━━━━━━━━━━━━━\u001b[0m\u001b[37m\u001b[0m \u001b[1m60s\u001b[0m 75ms/step - accuracy: 0.9936 - loss: 0.0458 - val_accuracy: 0.6385 - val_loss: 2.2400 - learning_rate: 1.0000e-05\n",
      "Epoch 65/100\n",
      "\u001b[1m625/800\u001b[0m \u001b[32m━━━━━━━━━━━━━━━\u001b[0m\u001b[37m━━━━━\u001b[0m \u001b[1m15s\u001b[0m 87ms/step - accuracy: 0.9942 - loss: 0.0449\n",
      "Epoch 65: val_accuracy improved from 0.63950 to 0.63980, saving model to best_weights.weights.h5\n",
      "\u001b[1m800/800\u001b[0m \u001b[32m━━━━━━━━━━━━━━━━━━━━\u001b[0m\u001b[37m\u001b[0m \u001b[1m62s\u001b[0m 77ms/step - accuracy: 0.9942 - loss: 0.0447 - val_accuracy: 0.6398 - val_loss: 2.2203 - learning_rate: 1.0000e-05\n",
      "Epoch 66/100\n",
      "\u001b[1m625/800\u001b[0m \u001b[32m━━━━━━━━━━━━━━━\u001b[0m\u001b[37m━━━━━\u001b[0m \u001b[1m15s\u001b[0m 87ms/step - accuracy: 0.9949 - loss: 0.0422\n",
      "Epoch 66: val_accuracy did not improve from 0.63980\n",
      "\u001b[1m800/800\u001b[0m \u001b[32m━━━━━━━━━━━━━━━━━━━━\u001b[0m\u001b[37m\u001b[0m \u001b[1m60s\u001b[0m 75ms/step - accuracy: 0.9948 - loss: 0.0424 - val_accuracy: 0.6393 - val_loss: 2.2185 - learning_rate: 1.0000e-05\n",
      "Epoch 67/100\n",
      "\u001b[1m625/800\u001b[0m \u001b[32m━━━━━━━━━━━━━━━\u001b[0m\u001b[37m━━━━━\u001b[0m \u001b[1m15s\u001b[0m 87ms/step - accuracy: 0.9936 - loss: 0.0441\n",
      "Epoch 67: val_accuracy improved from 0.63980 to 0.63990, saving model to best_weights.weights.h5\n",
      "\u001b[1m800/800\u001b[0m \u001b[32m━━━━━━━━━━━━━━━━━━━━\u001b[0m\u001b[37m\u001b[0m \u001b[1m62s\u001b[0m 77ms/step - accuracy: 0.9937 - loss: 0.0441 - val_accuracy: 0.6399 - val_loss: 2.2157 - learning_rate: 1.0000e-05\n",
      "Epoch 68/100\n",
      "\u001b[1m625/800\u001b[0m \u001b[32m━━━━━━━━━━━━━━━\u001b[0m\u001b[37m━━━━━\u001b[0m \u001b[1m15s\u001b[0m 87ms/step - accuracy: 0.9935 - loss: 0.0444\n",
      "Epoch 68: val_accuracy did not improve from 0.63990\n",
      "\u001b[1m800/800\u001b[0m \u001b[32m━━━━━━━━━━━━━━━━━━━━\u001b[0m\u001b[37m\u001b[0m \u001b[1m60s\u001b[0m 74ms/step - accuracy: 0.9936 - loss: 0.0444 - val_accuracy: 0.6393 - val_loss: 2.2090 - learning_rate: 1.0000e-05\n",
      "Epoch 69/100\n",
      "\u001b[1m625/800\u001b[0m \u001b[32m━━━━━━━━━━━━━━━\u001b[0m\u001b[37m━━━━━\u001b[0m \u001b[1m15s\u001b[0m 87ms/step - accuracy: 0.9934 - loss: 0.0443\n",
      "Epoch 69: val_accuracy improved from 0.63990 to 0.64060, saving model to best_weights.weights.h5\n",
      "\u001b[1m800/800\u001b[0m \u001b[32m━━━━━━━━━━━━━━━━━━━━\u001b[0m\u001b[37m\u001b[0m \u001b[1m61s\u001b[0m 76ms/step - accuracy: 0.9934 - loss: 0.0445 - val_accuracy: 0.6406 - val_loss: 2.2205 - learning_rate: 1.0000e-05\n",
      "Epoch 70/100\n",
      "\u001b[1m625/800\u001b[0m \u001b[32m━━━━━━━━━━━━━━━\u001b[0m\u001b[37m━━━━━\u001b[0m \u001b[1m15s\u001b[0m 87ms/step - accuracy: 0.9934 - loss: 0.0434\n",
      "Epoch 70: val_accuracy improved from 0.64060 to 0.64070, saving model to best_weights.weights.h5\n",
      "\u001b[1m800/800\u001b[0m \u001b[32m━━━━━━━━━━━━━━━━━━━━\u001b[0m\u001b[37m\u001b[0m \u001b[1m61s\u001b[0m 76ms/step - accuracy: 0.9935 - loss: 0.0433 - val_accuracy: 0.6407 - val_loss: 2.2129 - learning_rate: 1.0000e-05\n",
      "Epoch 71/100\n",
      "\u001b[1m625/800\u001b[0m \u001b[32m━━━━━━━━━━━━━━━\u001b[0m\u001b[37m━━━━━\u001b[0m \u001b[1m15s\u001b[0m 87ms/step - accuracy: 0.9938 - loss: 0.0420\n",
      "Epoch 71: val_accuracy did not improve from 0.64070\n",
      "\u001b[1m800/800\u001b[0m \u001b[32m━━━━━━━━━━━━━━━━━━━━\u001b[0m\u001b[37m\u001b[0m \u001b[1m60s\u001b[0m 74ms/step - accuracy: 0.9939 - loss: 0.0419 - val_accuracy: 0.6402 - val_loss: 2.2053 - learning_rate: 1.0000e-05\n",
      "Epoch 72/100\n",
      "\u001b[1m625/800\u001b[0m \u001b[32m━━━━━━━━━━━━━━━\u001b[0m\u001b[37m━━━━━\u001b[0m \u001b[1m15s\u001b[0m 87ms/step - accuracy: 0.9938 - loss: 0.0418\n",
      "Epoch 72: val_accuracy did not improve from 0.64070\n",
      "\u001b[1m800/800\u001b[0m \u001b[32m━━━━━━━━━━━━━━━━━━━━\u001b[0m\u001b[37m\u001b[0m \u001b[1m60s\u001b[0m 74ms/step - accuracy: 0.9938 - loss: 0.0418 - val_accuracy: 0.6406 - val_loss: 2.2277 - learning_rate: 1.0000e-05\n",
      "Epoch 73/100\n",
      "\u001b[1m625/800\u001b[0m \u001b[32m━━━━━━━━━━━━━━━\u001b[0m\u001b[37m━━━━━\u001b[0m \u001b[1m15s\u001b[0m 87ms/step - accuracy: 0.9941 - loss: 0.0424\n",
      "Epoch 73: val_accuracy did not improve from 0.64070\n",
      "\u001b[1m800/800\u001b[0m \u001b[32m━━━━━━━━━━━━━━━━━━━━\u001b[0m\u001b[37m\u001b[0m \u001b[1m60s\u001b[0m 74ms/step - accuracy: 0.9941 - loss: 0.0423 - val_accuracy: 0.6381 - val_loss: 2.2287 - learning_rate: 1.0000e-05\n",
      "Epoch 74/100\n",
      "\u001b[1m625/800\u001b[0m \u001b[32m━━━━━━━━━━━━━━━\u001b[0m\u001b[37m━━━━━\u001b[0m \u001b[1m15s\u001b[0m 87ms/step - accuracy: 0.9948 - loss: 0.0409\n",
      "Epoch 74: val_accuracy did not improve from 0.64070\n",
      "\u001b[1m800/800\u001b[0m \u001b[32m━━━━━━━━━━━━━━━━━━━━\u001b[0m\u001b[37m\u001b[0m \u001b[1m60s\u001b[0m 75ms/step - accuracy: 0.9947 - loss: 0.0410 - val_accuracy: 0.6395 - val_loss: 2.2412 - learning_rate: 1.0000e-05\n",
      "Epoch 75/100\n",
      "\u001b[1m625/800\u001b[0m \u001b[32m━━━━━━━━━━━━━━━\u001b[0m\u001b[37m━━━━━\u001b[0m \u001b[1m15s\u001b[0m 87ms/step - accuracy: 0.9948 - loss: 0.0409\n",
      "Epoch 75: val_accuracy did not improve from 0.64070\n",
      "\u001b[1m800/800\u001b[0m \u001b[32m━━━━━━━━━━━━━━━━━━━━\u001b[0m\u001b[37m\u001b[0m \u001b[1m60s\u001b[0m 75ms/step - accuracy: 0.9948 - loss: 0.0409 - val_accuracy: 0.6407 - val_loss: 2.2124 - learning_rate: 1.0000e-05\n",
      "Epoch 76/100\n",
      "\u001b[1m625/800\u001b[0m \u001b[32m━━━━━━━━━━━━━━━\u001b[0m\u001b[37m━━━━━\u001b[0m \u001b[1m15s\u001b[0m 87ms/step - accuracy: 0.9948 - loss: 0.0392\n",
      "Epoch 76: val_accuracy improved from 0.64070 to 0.64080, saving model to best_weights.weights.h5\n",
      "\u001b[1m800/800\u001b[0m \u001b[32m━━━━━━━━━━━━━━━━━━━━\u001b[0m\u001b[37m\u001b[0m \u001b[1m61s\u001b[0m 76ms/step - accuracy: 0.9947 - loss: 0.0393 - val_accuracy: 0.6408 - val_loss: 2.2061 - learning_rate: 1.0000e-05\n",
      "Epoch 77/100\n",
      "\u001b[1m625/800\u001b[0m \u001b[32m━━━━━━━━━━━━━━━\u001b[0m\u001b[37m━━━━━\u001b[0m \u001b[1m15s\u001b[0m 87ms/step - accuracy: 0.9950 - loss: 0.0388\n",
      "Epoch 77: val_accuracy did not improve from 0.64080\n",
      "\u001b[1m800/800\u001b[0m \u001b[32m━━━━━━━━━━━━━━━━━━━━\u001b[0m\u001b[37m\u001b[0m \u001b[1m60s\u001b[0m 75ms/step - accuracy: 0.9950 - loss: 0.0388 - val_accuracy: 0.6398 - val_loss: 2.2091 - learning_rate: 1.0000e-05\n",
      "Epoch 78/100\n",
      "\u001b[1m625/800\u001b[0m \u001b[32m━━━━━━━━━━━━━━━\u001b[0m\u001b[37m━━━━━\u001b[0m \u001b[1m15s\u001b[0m 87ms/step - accuracy: 0.9942 - loss: 0.0405\n",
      "Epoch 78: val_accuracy did not improve from 0.64080\n",
      "\u001b[1m800/800\u001b[0m \u001b[32m━━━━━━━━━━━━━━━━━━━━\u001b[0m\u001b[37m\u001b[0m \u001b[1m60s\u001b[0m 75ms/step - accuracy: 0.9941 - loss: 0.0407 - val_accuracy: 0.6396 - val_loss: 2.2320 - learning_rate: 1.0000e-05\n",
      "Epoch 79/100\n",
      "\u001b[1m625/800\u001b[0m \u001b[32m━━━━━━━━━━━━━━━\u001b[0m\u001b[37m━━━━━\u001b[0m \u001b[1m15s\u001b[0m 87ms/step - accuracy: 0.9948 - loss: 0.0381\n",
      "Epoch 79: val_accuracy did not improve from 0.64080\n",
      "\u001b[1m800/800\u001b[0m \u001b[32m━━━━━━━━━━━━━━━━━━━━\u001b[0m\u001b[37m\u001b[0m \u001b[1m60s\u001b[0m 75ms/step - accuracy: 0.9948 - loss: 0.0382 - val_accuracy: 0.6403 - val_loss: 2.2228 - learning_rate: 1.0000e-05\n",
      "Epoch 80/100\n",
      "\u001b[1m625/800\u001b[0m \u001b[32m━━━━━━━━━━━━━━━\u001b[0m\u001b[37m━━━━━\u001b[0m \u001b[1m15s\u001b[0m 87ms/step - accuracy: 0.9945 - loss: 0.0390\n",
      "Epoch 80: val_accuracy improved from 0.64080 to 0.64110, saving model to best_weights.weights.h5\n",
      "\u001b[1m800/800\u001b[0m \u001b[32m━━━━━━━━━━━━━━━━━━━━\u001b[0m\u001b[37m\u001b[0m \u001b[1m61s\u001b[0m 76ms/step - accuracy: 0.9946 - loss: 0.0389 - val_accuracy: 0.6411 - val_loss: 2.2196 - learning_rate: 1.0000e-05\n",
      "Epoch 81/100\n",
      "\u001b[1m625/800\u001b[0m \u001b[32m━━━━━━━━━━━━━━━\u001b[0m\u001b[37m━━━━━\u001b[0m \u001b[1m15s\u001b[0m 87ms/step - accuracy: 0.9946 - loss: 0.0394\n",
      "Epoch 81: val_accuracy did not improve from 0.64110\n",
      "\u001b[1m800/800\u001b[0m \u001b[32m━━━━━━━━━━━━━━━━━━━━\u001b[0m\u001b[37m\u001b[0m \u001b[1m60s\u001b[0m 75ms/step - accuracy: 0.9946 - loss: 0.0392 - val_accuracy: 0.6396 - val_loss: 2.2239 - learning_rate: 1.0000e-05\n",
      "Epoch 82/100\n",
      "\u001b[1m625/800\u001b[0m \u001b[32m━━━━━━━━━━━━━━━\u001b[0m\u001b[37m━━━━━\u001b[0m \u001b[1m15s\u001b[0m 87ms/step - accuracy: 0.9943 - loss: 0.0397\n",
      "Epoch 82: val_accuracy did not improve from 0.64110\n",
      "\u001b[1m800/800\u001b[0m \u001b[32m━━━━━━━━━━━━━━━━━━━━\u001b[0m\u001b[37m\u001b[0m \u001b[1m60s\u001b[0m 74ms/step - accuracy: 0.9943 - loss: 0.0397 - val_accuracy: 0.6409 - val_loss: 2.2068 - learning_rate: 1.0000e-05\n",
      "Epoch 83/100\n",
      "\u001b[1m625/800\u001b[0m \u001b[32m━━━━━━━━━━━━━━━\u001b[0m\u001b[37m━━━━━\u001b[0m \u001b[1m15s\u001b[0m 87ms/step - accuracy: 0.9944 - loss: 0.0392\n",
      "Epoch 83: val_accuracy did not improve from 0.64110\n",
      "\u001b[1m800/800\u001b[0m \u001b[32m━━━━━━━━━━━━━━━━━━━━\u001b[0m\u001b[37m\u001b[0m \u001b[1m60s\u001b[0m 74ms/step - accuracy: 0.9944 - loss: 0.0389 - val_accuracy: 0.6404 - val_loss: 2.2105 - learning_rate: 1.0000e-05\n",
      "Epoch 84/100\n",
      "\u001b[1m625/800\u001b[0m \u001b[32m━━━━━━━━━━━━━━━\u001b[0m\u001b[37m━━━━━\u001b[0m \u001b[1m15s\u001b[0m 87ms/step - accuracy: 0.9937 - loss: 0.0413\n",
      "Epoch 84: val_accuracy did not improve from 0.64110\n",
      "\u001b[1m800/800\u001b[0m \u001b[32m━━━━━━━━━━━━━━━━━━━━\u001b[0m\u001b[37m\u001b[0m \u001b[1m60s\u001b[0m 75ms/step - accuracy: 0.9938 - loss: 0.0411 - val_accuracy: 0.6401 - val_loss: 2.2343 - learning_rate: 1.0000e-05\n",
      "Epoch 85/100\n",
      "\u001b[1m625/800\u001b[0m \u001b[32m━━━━━━━━━━━━━━━\u001b[0m\u001b[37m━━━━━\u001b[0m \u001b[1m15s\u001b[0m 87ms/step - accuracy: 0.9955 - loss: 0.0374\n",
      "Epoch 85: val_accuracy did not improve from 0.64110\n",
      "\u001b[1m800/800\u001b[0m \u001b[32m━━━━━━━━━━━━━━━━━━━━\u001b[0m\u001b[37m\u001b[0m \u001b[1m60s\u001b[0m 75ms/step - accuracy: 0.9955 - loss: 0.0373 - val_accuracy: 0.6407 - val_loss: 2.2353 - learning_rate: 1.0000e-05\n",
      "Epoch 86/100\n",
      "\u001b[1m625/800\u001b[0m \u001b[32m━━━━━━━━━━━━━━━\u001b[0m\u001b[37m━━━━━\u001b[0m \u001b[1m15s\u001b[0m 87ms/step - accuracy: 0.9950 - loss: 0.0364\n",
      "Epoch 86: val_accuracy improved from 0.64110 to 0.64150, saving model to best_weights.weights.h5\n",
      "\u001b[1m800/800\u001b[0m \u001b[32m━━━━━━━━━━━━━━━━━━━━\u001b[0m\u001b[37m\u001b[0m \u001b[1m61s\u001b[0m 76ms/step - accuracy: 0.9950 - loss: 0.0368 - val_accuracy: 0.6415 - val_loss: 2.2278 - learning_rate: 1.0000e-05\n",
      "Epoch 87/100\n",
      "\u001b[1m625/800\u001b[0m \u001b[32m━━━━━━━━━━━━━━━\u001b[0m\u001b[37m━━━━━\u001b[0m \u001b[1m15s\u001b[0m 87ms/step - accuracy: 0.9954 - loss: 0.0355\n",
      "Epoch 87: val_accuracy did not improve from 0.64150\n",
      "\u001b[1m800/800\u001b[0m \u001b[32m━━━━━━━━━━━━━━━━━━━━\u001b[0m\u001b[37m\u001b[0m \u001b[1m60s\u001b[0m 75ms/step - accuracy: 0.9954 - loss: 0.0356 - val_accuracy: 0.6399 - val_loss: 2.2186 - learning_rate: 1.0000e-05\n",
      "Epoch 88/100\n",
      "\u001b[1m625/800\u001b[0m \u001b[32m━━━━━━━━━━━━━━━\u001b[0m\u001b[37m━━━━━\u001b[0m \u001b[1m15s\u001b[0m 87ms/step - accuracy: 0.9951 - loss: 0.0370\n",
      "Epoch 88: val_accuracy did not improve from 0.64150\n",
      "\u001b[1m800/800\u001b[0m \u001b[32m━━━━━━━━━━━━━━━━━━━━\u001b[0m\u001b[37m\u001b[0m \u001b[1m60s\u001b[0m 75ms/step - accuracy: 0.9951 - loss: 0.0371 - val_accuracy: 0.6414 - val_loss: 2.2164 - learning_rate: 1.0000e-05\n",
      "Epoch 89/100\n",
      "\u001b[1m625/800\u001b[0m \u001b[32m━━━━━━━━━━━━━━━\u001b[0m\u001b[37m━━━━━\u001b[0m \u001b[1m15s\u001b[0m 87ms/step - accuracy: 0.9956 - loss: 0.0356\n",
      "Epoch 89: val_accuracy improved from 0.64150 to 0.64210, saving model to best_weights.weights.h5\n",
      "\u001b[1m800/800\u001b[0m \u001b[32m━━━━━━━━━━━━━━━━━━━━\u001b[0m\u001b[37m\u001b[0m \u001b[1m61s\u001b[0m 76ms/step - accuracy: 0.9956 - loss: 0.0356 - val_accuracy: 0.6421 - val_loss: 2.2205 - learning_rate: 1.0000e-05\n",
      "Epoch 90/100\n",
      "\u001b[1m625/800\u001b[0m \u001b[32m━━━━━━━━━━━━━━━\u001b[0m\u001b[37m━━━━━\u001b[0m \u001b[1m15s\u001b[0m 87ms/step - accuracy: 0.9954 - loss: 0.0355\n",
      "Epoch 90: val_accuracy did not improve from 0.64210\n",
      "\u001b[1m800/800\u001b[0m \u001b[32m━━━━━━━━━━━━━━━━━━━━\u001b[0m\u001b[37m\u001b[0m \u001b[1m60s\u001b[0m 75ms/step - accuracy: 0.9954 - loss: 0.0355 - val_accuracy: 0.6399 - val_loss: 2.2248 - learning_rate: 1.0000e-05\n",
      "Epoch 91/100\n",
      "\u001b[1m625/800\u001b[0m \u001b[32m━━━━━━━━━━━━━━━\u001b[0m\u001b[37m━━━━━\u001b[0m \u001b[1m15s\u001b[0m 87ms/step - accuracy: 0.9954 - loss: 0.0349\n",
      "Epoch 91: val_accuracy did not improve from 0.64210\n",
      "\u001b[1m800/800\u001b[0m \u001b[32m━━━━━━━━━━━━━━━━━━━━\u001b[0m\u001b[37m\u001b[0m \u001b[1m60s\u001b[0m 75ms/step - accuracy: 0.9954 - loss: 0.0350 - val_accuracy: 0.6409 - val_loss: 2.2107 - learning_rate: 1.0000e-05\n",
      "Epoch 92/100\n",
      "\u001b[1m625/800\u001b[0m \u001b[32m━━━━━━━━━━━━━━━\u001b[0m\u001b[37m━━━━━\u001b[0m \u001b[1m15s\u001b[0m 87ms/step - accuracy: 0.9952 - loss: 0.0358\n",
      "Epoch 92: val_accuracy improved from 0.64210 to 0.64330, saving model to best_weights.weights.h5\n",
      "\u001b[1m800/800\u001b[0m \u001b[32m━━━━━━━━━━━━━━━━━━━━\u001b[0m\u001b[37m\u001b[0m \u001b[1m61s\u001b[0m 76ms/step - accuracy: 0.9953 - loss: 0.0356 - val_accuracy: 0.6433 - val_loss: 2.2124 - learning_rate: 1.0000e-05\n",
      "Epoch 93/100\n",
      "\u001b[1m625/800\u001b[0m \u001b[32m━━━━━━━━━━━━━━━\u001b[0m\u001b[37m━━━━━\u001b[0m \u001b[1m15s\u001b[0m 87ms/step - accuracy: 0.9965 - loss: 0.0334\n",
      "Epoch 93: val_accuracy did not improve from 0.64330\n",
      "\u001b[1m800/800\u001b[0m \u001b[32m━━━━━━━━━━━━━━━━━━━━\u001b[0m\u001b[37m\u001b[0m \u001b[1m60s\u001b[0m 75ms/step - accuracy: 0.9964 - loss: 0.0336 - val_accuracy: 0.6413 - val_loss: 2.2163 - learning_rate: 1.0000e-05\n",
      "Epoch 94/100\n",
      "\u001b[1m625/800\u001b[0m \u001b[32m━━━━━━━━━━━━━━━\u001b[0m\u001b[37m━━━━━\u001b[0m \u001b[1m15s\u001b[0m 87ms/step - accuracy: 0.9958 - loss: 0.0331\n",
      "Epoch 94: val_accuracy did not improve from 0.64330\n",
      "\u001b[1m800/800\u001b[0m \u001b[32m━━━━━━━━━━━━━━━━━━━━\u001b[0m\u001b[37m\u001b[0m \u001b[1m60s\u001b[0m 74ms/step - accuracy: 0.9958 - loss: 0.0331 - val_accuracy: 0.6400 - val_loss: 2.2132 - learning_rate: 1.0000e-05\n",
      "Epoch 95/100\n",
      "\u001b[1m625/800\u001b[0m \u001b[32m━━━━━━━━━━━━━━━\u001b[0m\u001b[37m━━━━━\u001b[0m \u001b[1m15s\u001b[0m 87ms/step - accuracy: 0.9959 - loss: 0.0325\n",
      "Epoch 95: val_accuracy did not improve from 0.64330\n",
      "\u001b[1m800/800\u001b[0m \u001b[32m━━━━━━━━━━━━━━━━━━━━\u001b[0m\u001b[37m\u001b[0m \u001b[1m60s\u001b[0m 75ms/step - accuracy: 0.9960 - loss: 0.0327 - val_accuracy: 0.6414 - val_loss: 2.2152 - learning_rate: 1.0000e-05\n",
      "Epoch 96/100\n",
      "\u001b[1m625/800\u001b[0m \u001b[32m━━━━━━━━━━━━━━━\u001b[0m\u001b[37m━━━━━\u001b[0m \u001b[1m15s\u001b[0m 87ms/step - accuracy: 0.9949 - loss: 0.0362\n",
      "Epoch 96: val_accuracy did not improve from 0.64330\n",
      "\u001b[1m800/800\u001b[0m \u001b[32m━━━━━━━━━━━━━━━━━━━━\u001b[0m\u001b[37m\u001b[0m \u001b[1m60s\u001b[0m 75ms/step - accuracy: 0.9950 - loss: 0.0361 - val_accuracy: 0.6414 - val_loss: 2.2254 - learning_rate: 1.0000e-05\n",
      "Epoch 97/100\n",
      "\u001b[1m625/800\u001b[0m \u001b[32m━━━━━━━━━━━━━━━\u001b[0m\u001b[37m━━━━━\u001b[0m \u001b[1m15s\u001b[0m 87ms/step - accuracy: 0.9959 - loss: 0.0332\n",
      "Epoch 97: val_accuracy did not improve from 0.64330\n",
      "\u001b[1m800/800\u001b[0m \u001b[32m━━━━━━━━━━━━━━━━━━━━\u001b[0m\u001b[37m\u001b[0m \u001b[1m60s\u001b[0m 74ms/step - accuracy: 0.9958 - loss: 0.0333 - val_accuracy: 0.6417 - val_loss: 2.2229 - learning_rate: 1.0000e-05\n",
      "Epoch 98/100\n",
      "\u001b[1m625/800\u001b[0m \u001b[32m━━━━━━━━━━━━━━━\u001b[0m\u001b[37m━━━━━\u001b[0m \u001b[1m15s\u001b[0m 87ms/step - accuracy: 0.9951 - loss: 0.0346\n",
      "Epoch 98: val_accuracy did not improve from 0.64330\n",
      "\u001b[1m800/800\u001b[0m \u001b[32m━━━━━━━━━━━━━━━━━━━━\u001b[0m\u001b[37m\u001b[0m \u001b[1m60s\u001b[0m 74ms/step - accuracy: 0.9951 - loss: 0.0346 - val_accuracy: 0.6397 - val_loss: 2.2352 - learning_rate: 1.0000e-05\n",
      "Epoch 99/100\n",
      "\u001b[1m625/800\u001b[0m \u001b[32m━━━━━━━━━━━━━━━\u001b[0m\u001b[37m━━━━━\u001b[0m \u001b[1m15s\u001b[0m 87ms/step - accuracy: 0.9959 - loss: 0.0345\n",
      "Epoch 99: val_accuracy did not improve from 0.64330\n",
      "\u001b[1m800/800\u001b[0m \u001b[32m━━━━━━━━━━━━━━━━━━━━\u001b[0m\u001b[37m\u001b[0m \u001b[1m60s\u001b[0m 74ms/step - accuracy: 0.9959 - loss: 0.0346 - val_accuracy: 0.6396 - val_loss: 2.2331 - learning_rate: 1.0000e-05\n",
      "Epoch 100/100\n",
      "\u001b[1m625/800\u001b[0m \u001b[32m━━━━━━━━━━━━━━━\u001b[0m\u001b[37m━━━━━\u001b[0m \u001b[1m15s\u001b[0m 87ms/step - accuracy: 0.9956 - loss: 0.0334\n",
      "Epoch 100: val_accuracy did not improve from 0.64330\n",
      "\u001b[1m800/800\u001b[0m \u001b[32m━━━━━━━━━━━━━━━━━━━━\u001b[0m\u001b[37m\u001b[0m \u001b[1m60s\u001b[0m 75ms/step - accuracy: 0.9956 - loss: 0.0332 - val_accuracy: 0.6414 - val_loss: 2.2299 - learning_rate: 1.0000e-05\n",
      "Restoring model weights from the end of the best epoch: 92.\n"
     ]
    }
   ],
   "source": [
    "# Trains the model using the fit method and logs the training history.\n",
    "\n",
    "history = model.fit(\n",
    "    datagen.flow(x_split_train, y_split_train, batch_size=64),\n",
    "    steps_per_epoch=x_split_train.shape[0]//50,                               \n",
    "    epochs=100,                                     # Specifies the maximum number of training epochs.\n",
    "    validation_data=(x_split_val, y_split_val),       # Uses validation set to track the model’s performance.\n",
    "    callbacks=[                                     \n",
    "        rlrop,  # Reduces learning rate on plateau if validation performance stops improving\n",
    "        es,     # Implements early stopping with patience, restoring the best weights\n",
    "        mc,     # Saves the model weights when the best validation accuracy is reached\n",
    "        tb,     # Enables tensorboard logging for visualizing the training process\n",
    "    ]\n",
    ")\n"
   ]
  },
  {
   "cell_type": "code",
   "execution_count": 237,
   "metadata": {
    "execution": {
     "iopub.execute_input": "2024-11-26T16:55:35.113289Z",
     "iopub.status.busy": "2024-11-26T16:55:35.112959Z",
     "iopub.status.idle": "2024-11-26T16:55:35.310209Z",
     "shell.execute_reply": "2024-11-26T16:55:35.309277Z",
     "shell.execute_reply.started": "2024-11-26T16:55:35.113256Z"
    },
    "trusted": true
   },
   "outputs": [
    {
     "data": {
      "text/plain": [
       "<matplotlib.legend.Legend at 0x7f63cbc36ad0>"
      ]
     },
     "execution_count": 237,
     "metadata": {},
     "output_type": "execute_result"
    },
    {
     "data": {
      "image/png": "[encoded data removed]",
      "text/plain": [
       "<Figure size 640x480 with 1 Axes>"
      ]
     },
     "metadata": {},
     "output_type": "display_data"
    }
   ],
   "source": [
    "plt.plot(history.history[\"loss\"], label=\"Train loss\")\n",
    "\n",
    "plt.plot(history.history[\"val_loss\"], label=\"Validation loss\")\n",
    "\n",
    "plt.legend()"
   ]
  },
  {
   "cell_type": "code",
   "execution_count": 238,
   "metadata": {
    "execution": {
     "iopub.execute_input": "2024-11-26T16:55:35.311689Z",
     "iopub.status.busy": "2024-11-26T16:55:35.311425Z",
     "iopub.status.idle": "2024-11-26T16:55:35.561718Z",
     "shell.execute_reply": "2024-11-26T16:55:35.560926Z",
     "shell.execute_reply.started": "2024-11-26T16:55:35.311663Z"
    },
    "trusted": true
   },
   "outputs": [
    {
     "data": {
      "text/plain": [
       "<matplotlib.legend.Legend at 0x7f63c85ab460>"
      ]
     },
     "execution_count": 238,
     "metadata": {},
     "output_type": "execute_result"
    },
    {
     "data": {
      "image/png": "[encoded data removed]",
      "text/plain": [
       "<Figure size 640x480 with 1 Axes>"
      ]
     },
     "metadata": {},
     "output_type": "display_data"
    }
   ],
   "source": [
    "plt.plot(history.history[\"accuracy\"], label=\"Train accuracy\")\n",
    "\n",
    "plt.plot(history.history[\"val_accuracy\"], label=\"Validation accuracy\")\n",
    "\n",
    "plt.legend()"
   ]
  },
  {
   "cell_type": "code",
   "execution_count": 239,
   "metadata": {
    "execution": {
     "iopub.execute_input": "2024-11-26T16:55:35.563713Z",
     "iopub.status.busy": "2024-11-26T16:55:35.563364Z",
     "iopub.status.idle": "2024-11-26T16:55:44.403083Z",
     "shell.execute_reply": "2024-11-26T16:55:44.402143Z",
     "shell.execute_reply.started": "2024-11-26T16:55:35.563674Z"
    },
    "trusted": true
   },
   "outputs": [
    {
     "name": "stdout",
     "output_type": "stream",
     "text": [
      "\u001b[1m313/313\u001b[0m \u001b[32m━━━━━━━━━━━━━━━━━━━━\u001b[0m\u001b[37m\u001b[0m \u001b[1m8s\u001b[0m 21ms/step\n"
     ]
    }
   ],
   "source": [
    "predictions = model.predict(x_test)"
   ]
  },
  {
   "cell_type": "code",
   "execution_count": 240,
   "metadata": {
    "execution": {
     "iopub.execute_input": "2024-11-26T16:55:44.404698Z",
     "iopub.status.busy": "2024-11-26T16:55:44.404426Z",
     "iopub.status.idle": "2024-11-26T16:55:44.409170Z",
     "shell.execute_reply": "2024-11-26T16:55:44.408201Z",
     "shell.execute_reply.started": "2024-11-26T16:55:44.404672Z"
    },
    "trusted": true
   },
   "outputs": [],
   "source": [
    "predictions = predictions.argmax(axis=1)"
   ]
  },
  {
   "cell_type": "code",
   "execution_count": 241,
   "metadata": {
    "execution": {
     "iopub.execute_input": "2024-11-26T16:55:44.410526Z",
     "iopub.status.busy": "2024-11-26T16:55:44.410259Z",
     "iopub.status.idle": "2024-11-26T16:55:44.422789Z",
     "shell.execute_reply": "2024-11-26T16:55:44.422023Z",
     "shell.execute_reply.started": "2024-11-26T16:55:44.410499Z"
    },
    "trusted": true
   },
   "outputs": [
    {
     "data": {
      "text/plain": [
       "array([90, 33, 55, ..., 51, 42, 70])"
      ]
     },
     "execution_count": 241,
     "metadata": {},
     "output_type": "execute_result"
    }
   ],
   "source": [
    "predictions"
   ]
  },
  {
   "cell_type": "code",
   "execution_count": 242,
   "metadata": {
    "execution": {
     "iopub.execute_input": "2024-11-26T16:55:44.424133Z",
     "iopub.status.busy": "2024-11-26T16:55:44.423820Z",
     "iopub.status.idle": "2024-11-26T16:55:44.432213Z",
     "shell.execute_reply": "2024-11-26T16:55:44.431595Z",
     "shell.execute_reply.started": "2024-11-26T16:55:44.424093Z"
    },
    "trusted": true
   },
   "outputs": [],
   "source": [
    "df = pd.DataFrame(predictions, columns=[\"Label\"])"
   ]
  },
  {
   "cell_type": "code",
   "execution_count": 243,
   "metadata": {
    "execution": {
     "iopub.execute_input": "2024-11-26T16:55:44.433822Z",
     "iopub.status.busy": "2024-11-26T16:55:44.433262Z",
     "iopub.status.idle": "2024-11-26T16:55:44.442540Z",
     "shell.execute_reply": "2024-11-26T16:55:44.441658Z",
     "shell.execute_reply.started": "2024-11-26T16:55:44.433783Z"
    },
    "trusted": true
   },
   "outputs": [],
   "source": [
    "df.index.name = \"Id\""
   ]
  },
  {
   "cell_type": "code",
   "execution_count": 244,
   "metadata": {
    "execution": {
     "iopub.execute_input": "2024-11-26T16:55:44.444313Z",
     "iopub.status.busy": "2024-11-26T16:55:44.443704Z",
     "iopub.status.idle": "2024-11-26T16:55:44.457568Z",
     "shell.execute_reply": "2024-11-26T16:55:44.456654Z",
     "shell.execute_reply.started": "2024-11-26T16:55:44.444274Z"
    },
    "trusted": true
   },
   "outputs": [
    {
     "data": {
      "text/html": [
       "<div>\n",
       "<style scoped>\n",
       "    .dataframe tbody tr th:only-of-type {\n",
       "        vertical-align: middle;\n",
       "    }\n",
       "\n",
       "    .dataframe tbody tr th {\n",
       "        vertical-align: top;\n",
       "    }\n",
       "\n",
       "    .dataframe thead th {\n",
       "        text-align: right;\n",
       "    }\n",
       "</style>\n",
       "<table border=\"1\" class=\"dataframe\">\n",
       "  <thead>\n",
       "    <tr style=\"text-align: right;\">\n",
       "      <th></th>\n",
       "      <th>Label</th>\n",
       "    </tr>\n",
       "    <tr>\n",
       "      <th>Id</th>\n",
       "      <th></th>\n",
       "    </tr>\n",
       "  </thead>\n",
       "  <tbody>\n",
       "    <tr>\n",
       "      <th>0</th>\n",
       "      <td>90</td>\n",
       "    </tr>\n",
       "    <tr>\n",
       "      <th>1</th>\n",
       "      <td>33</td>\n",
       "    </tr>\n",
       "    <tr>\n",
       "      <th>2</th>\n",
       "      <td>55</td>\n",
       "    </tr>\n",
       "    <tr>\n",
       "      <th>3</th>\n",
       "      <td>51</td>\n",
       "    </tr>\n",
       "    <tr>\n",
       "      <th>4</th>\n",
       "      <td>71</td>\n",
       "    </tr>\n",
       "  </tbody>\n",
       "</table>\n",
       "</div>"
      ],
      "text/plain": [
       "    Label\n",
       "Id       \n",
       "0      90\n",
       "1      33\n",
       "2      55\n",
       "3      51\n",
       "4      71"
      ]
     },
     "execution_count": 244,
     "metadata": {},
     "output_type": "execute_result"
    }
   ],
   "source": [
    "df.head()"
   ]
  },
  {
   "cell_type": "code",
   "execution_count": null,
   "metadata": {
    "execution": {
     "iopub.execute_input": "2024-11-26T16:55:44.459333Z",
     "iopub.status.busy": "2024-11-26T16:55:44.458701Z",
     "iopub.status.idle": "2024-11-26T16:55:44.473823Z",
     "shell.execute_reply": "2024-11-26T16:55:44.472808Z",
     "shell.execute_reply.started": "2024-11-26T16:55:44.459295Z"
    },
    "trusted": true
   },
   "outputs": [],
   "source": [
    "df.to_csv(\"submission_model_2.csv\")"
   ]
  }
 ],
 "metadata": {
  "kaggle": {
   "accelerator": "gpu",
   "dataSources": [
    {
     "databundleVersionId": 9468663,
     "sourceId": 84511,
     "sourceType": "competition"
    }
   ],
   "dockerImageVersionId": 30786,
   "isGpuEnabled": true,
   "isInternetEnabled": false,
   "language": "python",
   "sourceType": "notebook"
  },
  "kernelspec": {
   "display_name": "Python 3",
   "language": "python",
   "name": "python3"
  },
  "language_info": {
   "codemirror_mode": {
    "name": "ipython",
    "version": 3
   },
   "file_extension": ".py",
   "mimetype": "text/x-python",
   "name": "python",
   "nbconvert_exporter": "python",
   "pygments_lexer": "ipython3",
   "version": "3.10.14"
  }
 },
 "nbformat": 4,
 "nbformat_minor": 4
}
